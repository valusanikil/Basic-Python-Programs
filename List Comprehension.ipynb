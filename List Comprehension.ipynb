{
 "cells": [
  {
   "cell_type": "code",
   "execution_count": 10,
   "id": "c8564026",
   "metadata": {},
   "outputs": [],
   "source": [
    "my_string=\"hello\""
   ]
  },
  {
   "cell_type": "code",
   "execution_count": 11,
   "id": "4ca2e703",
   "metadata": {},
   "outputs": [],
   "source": [
    "my_list=[]\n",
    "\n",
    "for letter in my_string:\n",
    "    my_list.append(letter)"
   ]
  },
  {
   "cell_type": "code",
   "execution_count": 12,
   "id": "40c699d4",
   "metadata": {},
   "outputs": [
    {
     "data": {
      "text/plain": [
       "['h', 'e', 'l', 'l', 'o']"
      ]
     },
     "execution_count": 12,
     "metadata": {},
     "output_type": "execute_result"
    }
   ],
   "source": [
    "my_list"
   ]
  },
  {
   "cell_type": "code",
   "execution_count": 13,
   "id": "07d0a304",
   "metadata": {},
   "outputs": [
    {
     "data": {
      "text/plain": [
       "['h', 'e', 'l', 'l', 'o']"
      ]
     },
     "execution_count": 13,
     "metadata": {},
     "output_type": "execute_result"
    }
   ],
   "source": [
    "my_list"
   ]
  },
  {
   "cell_type": "code",
   "execution_count": 14,
   "id": "15dd66ef",
   "metadata": {},
   "outputs": [],
   "source": [
    "my_list=[letter for letter in my_string]"
   ]
  },
  {
   "cell_type": "code",
   "execution_count": 15,
   "id": "44b67aef",
   "metadata": {},
   "outputs": [
    {
     "data": {
      "text/plain": [
       "['h', 'e', 'l', 'l', 'o']"
      ]
     },
     "execution_count": 15,
     "metadata": {},
     "output_type": "execute_result"
    }
   ],
   "source": [
    "my_list"
   ]
  },
  {
   "cell_type": "code",
   "execution_count": 16,
   "id": "27922234",
   "metadata": {},
   "outputs": [],
   "source": [
    "li=[x for x in \"Nikil\"]"
   ]
  },
  {
   "cell_type": "code",
   "execution_count": 17,
   "id": "d52108b3",
   "metadata": {},
   "outputs": [
    {
     "data": {
      "text/plain": [
       "['N', 'i', 'k', 'i', 'l']"
      ]
     },
     "execution_count": 17,
     "metadata": {},
     "output_type": "execute_result"
    }
   ],
   "source": [
    "li"
   ]
  },
  {
   "cell_type": "code",
   "execution_count": 28,
   "id": "76ad647d",
   "metadata": {},
   "outputs": [],
   "source": [
    "lis=[num**2 for num in range(0,11)]"
   ]
  },
  {
   "cell_type": "code",
   "execution_count": 29,
   "id": "b7339084",
   "metadata": {},
   "outputs": [
    {
     "data": {
      "text/plain": [
       "[0, 1, 4, 9, 16, 25, 36, 49, 64, 81, 100]"
      ]
     },
     "execution_count": 29,
     "metadata": {},
     "output_type": "execute_result"
    }
   ],
   "source": [
    "lis"
   ]
  },
  {
   "cell_type": "code",
   "execution_count": 30,
   "id": "df3bd682",
   "metadata": {},
   "outputs": [],
   "source": [
    "lis=[num**2 for num in range(0,11) if num%2==0]"
   ]
  },
  {
   "cell_type": "code",
   "execution_count": 31,
   "id": "9fe1694e",
   "metadata": {},
   "outputs": [
    {
     "data": {
      "text/plain": [
       "[0, 4, 16, 36, 64, 100]"
      ]
     },
     "execution_count": 31,
     "metadata": {},
     "output_type": "execute_result"
    }
   ],
   "source": [
    "lis"
   ]
  },
  {
   "cell_type": "code",
   "execution_count": 34,
   "id": "7fd7ea20",
   "metadata": {},
   "outputs": [],
   "source": [
    "c=[24,28,39,45]\n",
    "f=[((9/5)*temp+32) for temp in c]"
   ]
  },
  {
   "cell_type": "code",
   "execution_count": 35,
   "id": "b1b2f6fd",
   "metadata": {},
   "outputs": [
    {
     "data": {
      "text/plain": [
       "[75.2, 82.4, 102.2, 113.0]"
      ]
     },
     "execution_count": 35,
     "metadata": {},
     "output_type": "execute_result"
    }
   ],
   "source": [
    "f"
   ]
  },
  {
   "cell_type": "code",
   "execution_count": 38,
   "id": "4ff5416b",
   "metadata": {},
   "outputs": [],
   "source": [
    "f=[]\n",
    "for temp in c:\n",
    "    f.append(((9/5)*temp+32))"
   ]
  },
  {
   "cell_type": "code",
   "execution_count": 39,
   "id": "e0dd3949",
   "metadata": {},
   "outputs": [
    {
     "data": {
      "text/plain": [
       "[75.2, 82.4, 102.2, 113.0]"
      ]
     },
     "execution_count": 39,
     "metadata": {},
     "output_type": "execute_result"
    }
   ],
   "source": [
    "f"
   ]
  },
  {
   "cell_type": "code",
   "execution_count": 40,
   "id": "1a47efe1",
   "metadata": {},
   "outputs": [
    {
     "data": {
      "text/plain": [
       "[0, 4, 16, 36, 64, 100]"
      ]
     },
     "execution_count": 40,
     "metadata": {},
     "output_type": "execute_result"
    }
   ],
   "source": [
    "lis"
   ]
  },
  {
   "cell_type": "code",
   "execution_count": 41,
   "id": "3e86e7db",
   "metadata": {},
   "outputs": [],
   "source": [
    "results=[x if x%2==0 else \"ODD\" for x in range(0,10)]"
   ]
  },
  {
   "cell_type": "code",
   "execution_count": 42,
   "id": "4c8de89a",
   "metadata": {},
   "outputs": [
    {
     "data": {
      "text/plain": [
       "[0, 'ODD', 2, 'ODD', 4, 'ODD', 6, 'ODD', 8, 'ODD']"
      ]
     },
     "execution_count": 42,
     "metadata": {},
     "output_type": "execute_result"
    }
   ],
   "source": [
    "results"
   ]
  },
  {
   "cell_type": "code",
   "execution_count": 45,
   "id": "39252eff",
   "metadata": {},
   "outputs": [],
   "source": [
    "l=[]\n",
    "for x in [1,2,3]:\n",
    "    for y in [10,100,1000]:\n",
    "        l.append(x*y)"
   ]
  },
  {
   "cell_type": "code",
   "execution_count": 46,
   "id": "25b6ed07",
   "metadata": {},
   "outputs": [
    {
     "data": {
      "text/plain": [
       "[10, 100, 1000, 20, 200, 2000, 30, 300, 3000]"
      ]
     },
     "execution_count": 46,
     "metadata": {},
     "output_type": "execute_result"
    }
   ],
   "source": [
    "l"
   ]
  },
  {
   "cell_type": "code",
   "execution_count": 51,
   "id": "da4ba392",
   "metadata": {},
   "outputs": [],
   "source": [
    "lists=[x*y for x in [1,2,3] for y in [1,10,100]]"
   ]
  },
  {
   "cell_type": "code",
   "execution_count": 52,
   "id": "08462aee",
   "metadata": {},
   "outputs": [
    {
     "data": {
      "text/plain": [
       "[1, 10, 100, 2, 20, 200, 3, 30, 300]"
      ]
     },
     "execution_count": 52,
     "metadata": {},
     "output_type": "execute_result"
    }
   ],
   "source": [
    "lists"
   ]
  },
  {
   "cell_type": "code",
   "execution_count": null,
   "id": "7417fd1a",
   "metadata": {},
   "outputs": [],
   "source": []
  }
 ],
 "metadata": {
  "kernelspec": {
   "display_name": "Python 3 (ipykernel)",
   "language": "python",
   "name": "python3"
  },
  "language_info": {
   "codemirror_mode": {
    "name": "ipython",
    "version": 3
   },
   "file_extension": ".py",
   "mimetype": "text/x-python",
   "name": "python",
   "nbconvert_exporter": "python",
   "pygments_lexer": "ipython3",
   "version": "3.10.9"
  }
 },
 "nbformat": 4,
 "nbformat_minor": 5
}
