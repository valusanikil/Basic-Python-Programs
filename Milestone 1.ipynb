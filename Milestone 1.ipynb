{
 "cells": [
  {
   "cell_type": "code",
   "execution_count": 2,
   "id": "ea30e176",
   "metadata": {},
   "outputs": [],
   "source": [
    "def display(row1,row2,row3):\n",
    "    print(row1)\n",
    "    print(row2)\n",
    "    print(row3)"
   ]
  },
  {
   "cell_type": "code",
   "execution_count": 7,
   "id": "67422ead",
   "metadata": {},
   "outputs": [],
   "source": [
    "row1=['| |','| |','| |']\n",
    "row2=['| |','| |','| |']\n",
    "row3=['| |','| |','| |']"
   ]
  },
  {
   "cell_type": "code",
   "execution_count": 8,
   "id": "81293a6b",
   "metadata": {},
   "outputs": [
    {
     "name": "stdout",
     "output_type": "stream",
     "text": [
      "['| |', '| |', '| |']\n",
      "['| |', '| |', '| |']\n",
      "['| |', '| |', '| |']\n"
     ]
    }
   ],
   "source": [
    "display(row1,row2,row3)"
   ]
  },
  {
   "cell_type": "code",
   "execution_count": 46,
   "id": "78961556",
   "metadata": {},
   "outputs": [],
   "source": [
    "def user_choice():\n",
    "    \n",
    "    choice=\"Wrong\"\n",
    "    accepttable_range=range(0,10)\n",
    "    within_range=False\n",
    "    \n",
    "    while choice.isdigit()==False or within_range==False:\n",
    "        \n",
    "        choice=input(\"Enter a number in between 0 and 10: \")\n",
    "        \n",
    "        if choice.isdigit()==False:\n",
    "            print(\"You have enetered invalid input\")\n",
    "            \n",
    "        if choice.isdigit()==True:\n",
    "            if int(choice) in accepttable_range:\n",
    "                within_range=True\n",
    "            else:\n",
    "                print(\"You have entered out of range value\")\n",
    "                within_range=False\n",
    "        \n",
    "    return int(choice)"
   ]
  },
  {
   "cell_type": "code",
   "execution_count": 47,
   "id": "81871127",
   "metadata": {},
   "outputs": [
    {
     "name": "stdout",
     "output_type": "stream",
     "text": [
      "Enter a number in between 0 and 10: 60\n",
      "You have entered out of range value\n",
      "Enter a number in between 0 and 10: uhg\n",
      "You have enetered invalid input\n",
      "Enter a number in between 0 and 10: nine\n",
      "You have enetered invalid input\n",
      "Enter a number in between 0 and 10: 2\n"
     ]
    },
    {
     "data": {
      "text/plain": [
       "2"
      ]
     },
     "execution_count": 47,
     "metadata": {},
     "output_type": "execute_result"
    }
   ],
   "source": [
    "user_choice()"
   ]
  },
  {
   "cell_type": "code",
   "execution_count": 48,
   "id": "469e8d87",
   "metadata": {},
   "outputs": [
    {
     "name": "stdout",
     "output_type": "stream",
     "text": [
      "Enter a number in between 0 and 10: 10\n",
      "You have entered out of range value\n",
      "Enter a number in between 0 and 10: 9\n"
     ]
    },
    {
     "data": {
      "text/plain": [
       "9"
      ]
     },
     "execution_count": 48,
     "metadata": {},
     "output_type": "execute_result"
    }
   ],
   "source": [
    "user_choice()"
   ]
  },
  {
   "cell_type": "code",
   "execution_count": 49,
   "id": "bfec724c",
   "metadata": {},
   "outputs": [],
   "source": [
    "mylist=[0,1,2]"
   ]
  },
  {
   "cell_type": "code",
   "execution_count": 50,
   "id": "79a8c569",
   "metadata": {},
   "outputs": [
    {
     "data": {
      "text/plain": [
       "[0, 1, 2]"
      ]
     },
     "execution_count": 50,
     "metadata": {},
     "output_type": "execute_result"
    }
   ],
   "source": [
    "mylist"
   ]
  },
  {
   "cell_type": "code",
   "execution_count": 83,
   "id": "f2b62ba3",
   "metadata": {},
   "outputs": [],
   "source": [
    "def choice_user():\n",
    "    \n",
    "    position_index=\"Wrong\"\n",
    "    accepted_range=range(0,3)\n",
    "    within_the_range=False\n",
    "\n",
    "    while position_index.isdigit()==False or within_the_range==False:\n",
    "\n",
    "        position_index=input(\"Pick a position to replace (0,1,2): \")\n",
    "\n",
    "        if position_index.isdigit()==False:\n",
    "            print(\"You have entered invalid input\")\n",
    "            \n",
    "        if position_index.isdigit() == True:\n",
    "            if int(position_index) in accepted_range:\n",
    "                within_the_range=True\n",
    "            else:\n",
    "                print(\"You entered value that is not in 0,1,2\")\n",
    "                within_the_range=False\n",
    "                \n",
    "    position_index=int(position_index)\n",
    "    \n",
    "    new_value=input(\"Type a string to place at the position: \")\n",
    "    mylist[position_index]=new_value\n",
    "    \n",
    "    print(\"Here is the current list\")\n",
    "    print(mylist)\n",
    "    \n",
    "    new_choice=input(\"Would you like to keep playing? Y or N: \")\n",
    "    \n",
    "    if new_choice=='Y':\n",
    "        choice_user()\n",
    "    elif new_choice=='N':\n",
    "        exit\n",
    "    else:\n",
    "        print(\"You entered invalid input\")"
   ]
  },
  {
   "cell_type": "code",
   "execution_count": 84,
   "id": "2a2f482b",
   "metadata": {},
   "outputs": [
    {
     "name": "stdout",
     "output_type": "stream",
     "text": [
      "Pick a position to replace (0,1,2): 0\n",
      "Type a string to place at the position: Oye\n",
      "Here is the current list\n",
      "['Oye', 'Hey', 'Hi']\n",
      "Would you like to keep playing? Y or NY\n",
      "Pick a position to replace (0,1,2): 1\n",
      "Type a string to place at the position: Hello\n",
      "Here is the current list\n",
      "['Oye', 'Hello', 'Hi']\n",
      "Would you like to keep playing? Y or NN\n"
     ]
    }
   ],
   "source": [
    "choice_user()"
   ]
  },
  {
   "cell_type": "code",
   "execution_count": null,
   "id": "3c2414eb",
   "metadata": {},
   "outputs": [],
   "source": []
  },
  {
   "cell_type": "code",
   "execution_count": null,
   "id": "d8970e97",
   "metadata": {},
   "outputs": [],
   "source": []
  },
  {
   "cell_type": "code",
   "execution_count": null,
   "id": "3f93271b",
   "metadata": {},
   "outputs": [],
   "source": []
  },
  {
   "cell_type": "code",
   "execution_count": null,
   "id": "daf4a25f",
   "metadata": {
    "scrolled": true
   },
   "outputs": [],
   "source": []
  },
  {
   "cell_type": "code",
   "execution_count": null,
   "id": "86b19416",
   "metadata": {},
   "outputs": [],
   "source": []
  },
  {
   "cell_type": "code",
   "execution_count": 200,
   "id": "9ab40d10",
   "metadata": {},
   "outputs": [],
   "source": []
  },
  {
   "cell_type": "code",
   "execution_count": null,
   "id": "086bb775",
   "metadata": {},
   "outputs": [],
   "source": []
  },
  {
   "cell_type": "code",
   "execution_count": 202,
   "id": "4685537b",
   "metadata": {},
   "outputs": [],
   "source": []
  },
  {
   "cell_type": "code",
   "execution_count": null,
   "id": "3a740784",
   "metadata": {},
   "outputs": [],
   "source": []
  },
  {
   "cell_type": "code",
   "execution_count": null,
   "id": "30d773a0",
   "metadata": {},
   "outputs": [],
   "source": []
  }
 ],
 "metadata": {
  "kernelspec": {
   "display_name": "Python 3 (ipykernel)",
   "language": "python",
   "name": "python3"
  },
  "language_info": {
   "codemirror_mode": {
    "name": "ipython",
    "version": 3
   },
   "file_extension": ".py",
   "mimetype": "text/x-python",
   "name": "python",
   "nbconvert_exporter": "python",
   "pygments_lexer": "ipython3",
   "version": "3.10.9"
  }
 },
 "nbformat": 4,
 "nbformat_minor": 5
}
