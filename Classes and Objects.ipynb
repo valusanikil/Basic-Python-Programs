{
 "cells": [
  {
   "cell_type": "code",
   "execution_count": 18,
   "id": "9bece644",
   "metadata": {},
   "outputs": [],
   "source": [
    "class Dog():\n",
    "    \n",
    "    species=\"Mammal\"\n",
    "    \n",
    "    def __init__(self,breed,name,color):\n",
    "        \n",
    "        self.breed=breed\n",
    "        self.name=name\n",
    "        self.color=color\n",
    "        \n",
    "    def bark(self):\n",
    "        print(\"Woof! My name is {}\".format(self.name))\n",
    "        "
   ]
  },
  {
   "cell_type": "code",
   "execution_count": 19,
   "id": "5e76a4ee",
   "metadata": {},
   "outputs": [],
   "source": [
    "my_dog=Dog(\"Lab\",\"Spoony\",\"Black\")"
   ]
  },
  {
   "cell_type": "code",
   "execution_count": 20,
   "id": "e99997ae",
   "metadata": {},
   "outputs": [
    {
     "data": {
      "text/plain": [
       "__main__.Dog"
      ]
     },
     "execution_count": 20,
     "metadata": {},
     "output_type": "execute_result"
    }
   ],
   "source": [
    "type(my_dog)"
   ]
  },
  {
   "cell_type": "code",
   "execution_count": 21,
   "id": "c7a573f2",
   "metadata": {},
   "outputs": [
    {
     "data": {
      "text/plain": [
       "'Lab'"
      ]
     },
     "execution_count": 21,
     "metadata": {},
     "output_type": "execute_result"
    }
   ],
   "source": [
    "my_dog.breed"
   ]
  },
  {
   "cell_type": "code",
   "execution_count": 22,
   "id": "8c9bbd25",
   "metadata": {},
   "outputs": [
    {
     "data": {
      "text/plain": [
       "'Black'"
      ]
     },
     "execution_count": 22,
     "metadata": {},
     "output_type": "execute_result"
    }
   ],
   "source": [
    "my_dog.color"
   ]
  },
  {
   "cell_type": "code",
   "execution_count": 23,
   "id": "14dbbb78",
   "metadata": {},
   "outputs": [
    {
     "data": {
      "text/plain": [
       "'Spoony'"
      ]
     },
     "execution_count": 23,
     "metadata": {},
     "output_type": "execute_result"
    }
   ],
   "source": [
    "my_dog.name"
   ]
  },
  {
   "cell_type": "code",
   "execution_count": 24,
   "id": "17acce03",
   "metadata": {},
   "outputs": [
    {
     "name": "stdout",
     "output_type": "stream",
     "text": [
      "Woof! My name is Spoony\n"
     ]
    }
   ],
   "source": [
    "my_dog.bark()"
   ]
  },
  {
   "cell_type": "code",
   "execution_count": null,
   "id": "4840680a",
   "metadata": {},
   "outputs": [],
   "source": []
  },
  {
   "cell_type": "code",
   "execution_count": 35,
   "id": "e8c25a21",
   "metadata": {},
   "outputs": [],
   "source": [
    "class Circle:\n",
    "    \n",
    "    #class variable\n",
    "    pi=3.14\n",
    "    \n",
    "    def __init__(self,radius):\n",
    "        \n",
    "        #instance variable\n",
    "        self.radius = radius\n",
    "        \n",
    "    def get_circumference(self):\n",
    "        return 2*self.pi*self.radius"
   ]
  },
  {
   "cell_type": "code",
   "execution_count": 36,
   "id": "f99b7d4b",
   "metadata": {},
   "outputs": [],
   "source": [
    "my_circle=Circle(10)"
   ]
  },
  {
   "cell_type": "code",
   "execution_count": 37,
   "id": "793cd6f2",
   "metadata": {},
   "outputs": [
    {
     "data": {
      "text/plain": [
       "3.14"
      ]
     },
     "execution_count": 37,
     "metadata": {},
     "output_type": "execute_result"
    }
   ],
   "source": [
    "my_circle.pi"
   ]
  },
  {
   "cell_type": "code",
   "execution_count": 38,
   "id": "8fe8a3e0",
   "metadata": {},
   "outputs": [
    {
     "data": {
      "text/plain": [
       "10"
      ]
     },
     "execution_count": 38,
     "metadata": {},
     "output_type": "execute_result"
    }
   ],
   "source": [
    "my_circle.radius"
   ]
  },
  {
   "cell_type": "code",
   "execution_count": 39,
   "id": "b37be8f8",
   "metadata": {},
   "outputs": [
    {
     "data": {
      "text/plain": [
       "62.800000000000004"
      ]
     },
     "execution_count": 39,
     "metadata": {},
     "output_type": "execute_result"
    }
   ],
   "source": [
    "my_circle.get_circumference()"
   ]
  },
  {
   "cell_type": "code",
   "execution_count": 40,
   "id": "7b195111",
   "metadata": {},
   "outputs": [],
   "source": [
    "earth=Circle(6371)"
   ]
  },
  {
   "cell_type": "code",
   "execution_count": 41,
   "id": "fbff5a33",
   "metadata": {},
   "outputs": [
    {
     "data": {
      "text/plain": [
       "40009.880000000005"
      ]
     },
     "execution_count": 41,
     "metadata": {},
     "output_type": "execute_result"
    }
   ],
   "source": [
    "earth.get_circumference()"
   ]
  },
  {
   "cell_type": "code",
   "execution_count": 42,
   "id": "e8bbb1fd",
   "metadata": {},
   "outputs": [],
   "source": [
    "sun=Circle(696340)"
   ]
  },
  {
   "cell_type": "code",
   "execution_count": 43,
   "id": "27802546",
   "metadata": {},
   "outputs": [
    {
     "data": {
      "text/plain": [
       "696340"
      ]
     },
     "execution_count": 43,
     "metadata": {},
     "output_type": "execute_result"
    }
   ],
   "source": [
    "sun.radius"
   ]
  },
  {
   "cell_type": "code",
   "execution_count": 44,
   "id": "ddd46833",
   "metadata": {},
   "outputs": [
    {
     "data": {
      "text/plain": [
       "4373015.2"
      ]
     },
     "execution_count": 44,
     "metadata": {},
     "output_type": "execute_result"
    }
   ],
   "source": [
    "sun.get_circumference()"
   ]
  },
  {
   "cell_type": "code",
   "execution_count": 45,
   "id": "00d23923",
   "metadata": {},
   "outputs": [],
   "source": [
    "#Inheritance"
   ]
  },
  {
   "cell_type": "code",
   "execution_count": 80,
   "id": "8a27633d",
   "metadata": {},
   "outputs": [],
   "source": [
    "class Animal:\n",
    "    \n",
    "    def __init__(self):\n",
    "        print(\"Animal Created\")\n",
    "        \n",
    "    def who_ami_i(self):\n",
    "        print(\"I am an Animal\")\n",
    "        \n",
    "    def eat(self):\n",
    "        print(\"I am eating\")"
   ]
  },
  {
   "cell_type": "code",
   "execution_count": 81,
   "id": "a65599d2",
   "metadata": {},
   "outputs": [
    {
     "name": "stdout",
     "output_type": "stream",
     "text": [
      "Animal Created\n"
     ]
    }
   ],
   "source": [
    "my_animal=Animal()"
   ]
  },
  {
   "cell_type": "code",
   "execution_count": 99,
   "id": "0590a106",
   "metadata": {},
   "outputs": [],
   "source": [
    "class Dog(Animal):\n",
    "    \n",
    "    def __init__(self):\n",
    "        super().__init__()\n",
    "        print(\"Dog Created\")\n",
    "        \n",
    "    def bark(self):\n",
    "        print(\"Bow Bow\")"
   ]
  },
  {
   "cell_type": "code",
   "execution_count": 100,
   "id": "cf446f4e",
   "metadata": {},
   "outputs": [
    {
     "name": "stdout",
     "output_type": "stream",
     "text": [
      "Animal Created\n",
      "Dog Created\n"
     ]
    }
   ],
   "source": [
    "my_dog=Dog()"
   ]
  },
  {
   "cell_type": "code",
   "execution_count": 97,
   "id": "f30cbcc8",
   "metadata": {},
   "outputs": [
    {
     "name": "stdout",
     "output_type": "stream",
     "text": [
      "I am eating\n"
     ]
    }
   ],
   "source": [
    "my_dog.eat()"
   ]
  },
  {
   "cell_type": "code",
   "execution_count": 98,
   "id": "74f4da12",
   "metadata": {},
   "outputs": [
    {
     "name": "stdout",
     "output_type": "stream",
     "text": [
      "Bow Bow\n"
     ]
    }
   ],
   "source": [
    "my_dog.bark()"
   ]
  },
  {
   "cell_type": "code",
   "execution_count": 101,
   "id": "99d802ca",
   "metadata": {},
   "outputs": [],
   "source": [
    "#Polymorphism"
   ]
  },
  {
   "cell_type": "code",
   "execution_count": 102,
   "id": "758a03ee",
   "metadata": {},
   "outputs": [],
   "source": [
    "class Dog:\n",
    "    def __init__(self,name):\n",
    "        self.name=name\n",
    "    \n",
    "    def speak(self):\n",
    "        return self.name+\" says woof!\""
   ]
  },
  {
   "cell_type": "code",
   "execution_count": 103,
   "id": "f42aa8e0",
   "metadata": {},
   "outputs": [],
   "source": [
    "class Cat:\n",
    "    \n",
    "    def __init__(self,name):\n",
    "        self.name=name\n",
    "    \n",
    "    def speak(self):\n",
    "        return self.name+\" says meow!\""
   ]
  },
  {
   "cell_type": "code",
   "execution_count": 106,
   "id": "2830fb0a",
   "metadata": {},
   "outputs": [],
   "source": [
    "mydog=Dog(\"Lucky\")\n",
    "mycat=Cat(\"Kitty\")"
   ]
  },
  {
   "cell_type": "code",
   "execution_count": 107,
   "id": "256d6518",
   "metadata": {},
   "outputs": [
    {
     "data": {
      "text/plain": [
       "'Lucky says woof!'"
      ]
     },
     "execution_count": 107,
     "metadata": {},
     "output_type": "execute_result"
    }
   ],
   "source": [
    "mydog.speak()"
   ]
  },
  {
   "cell_type": "code",
   "execution_count": 108,
   "id": "36390221",
   "metadata": {},
   "outputs": [
    {
     "data": {
      "text/plain": [
       "'Kitty says meow!'"
      ]
     },
     "execution_count": 108,
     "metadata": {},
     "output_type": "execute_result"
    }
   ],
   "source": [
    "mycat.speak()"
   ]
  },
  {
   "cell_type": "code",
   "execution_count": 1,
   "id": "754c7253",
   "metadata": {},
   "outputs": [],
   "source": [
    "#Polymorphism and Abstract class"
   ]
  },
  {
   "cell_type": "code",
   "execution_count": 2,
   "id": "7c30f58c",
   "metadata": {},
   "outputs": [],
   "source": [
    "class Animal:\n",
    "    \n",
    "    def __init__(self,name):\n",
    "        self.name=name\n",
    "        \n",
    "    def speak(self):\n",
    "        raise NotImplementedError(\"Subclass must implement abstract method\")\n",
    "        \n",
    "class Dog(Animal):\n",
    "    \n",
    "    def speak(self):\n",
    "        return self.name+\" says Bow!\"\n",
    "    \n",
    "class Cat(Animal):\n",
    "    \n",
    "    def speak(self):\n",
    "        return self.name+\" says Meow!\""
   ]
  },
  {
   "cell_type": "code",
   "execution_count": 4,
   "id": "dc93ed61",
   "metadata": {},
   "outputs": [],
   "source": [
    "browny= Dog(\"browny\")"
   ]
  },
  {
   "cell_type": "code",
   "execution_count": 6,
   "id": "2d12965e",
   "metadata": {},
   "outputs": [],
   "source": [
    "cassie=Cat(\"cassie\")"
   ]
  },
  {
   "cell_type": "code",
   "execution_count": 10,
   "id": "de823e4e",
   "metadata": {},
   "outputs": [
    {
     "name": "stdout",
     "output_type": "stream",
     "text": [
      "browny says Bow!\n"
     ]
    }
   ],
   "source": [
    "print(browny.speak())"
   ]
  },
  {
   "cell_type": "code",
   "execution_count": 11,
   "id": "c032a4b5",
   "metadata": {},
   "outputs": [
    {
     "name": "stdout",
     "output_type": "stream",
     "text": [
      "cassie says Meow!\n"
     ]
    }
   ],
   "source": [
    "print(cassie.speak())"
   ]
  },
  {
   "cell_type": "code",
   "execution_count": 12,
   "id": "a39caa6f",
   "metadata": {},
   "outputs": [],
   "source": [
    "#Special Methods"
   ]
  },
  {
   "cell_type": "code",
   "execution_count": 41,
   "id": "03c36a6c",
   "metadata": {},
   "outputs": [],
   "source": [
    "class Book:\n",
    "    \n",
    "    def __init__(self,book,author,pages):\n",
    "        \n",
    "        self.book=book\n",
    "        self.author=author\n",
    "        self.pages=pages\n",
    "        \n",
    "    def __str__(self):\n",
    "        \n",
    "        return f\"{self.book} was written by {self.author} with {self.pages}\"\n",
    "    \n",
    "    def __len__(self):\n",
    "        \n",
    "        return self.pages\n",
    "    \n",
    "    def __del__(self):\n",
    "        print(\"Your object is deleted successfully\")"
   ]
  },
  {
   "cell_type": "code",
   "execution_count": 42,
   "id": "2f7765b1",
   "metadata": {},
   "outputs": [],
   "source": [
    "mybook=Book(\"Game of Thrones\",\"George RR Martin\",800)"
   ]
  },
  {
   "cell_type": "code",
   "execution_count": 45,
   "id": "cc3add6a",
   "metadata": {},
   "outputs": [
    {
     "name": "stdout",
     "output_type": "stream",
     "text": [
      "Game of Thrones was written by George RR Martin with 800\n"
     ]
    }
   ],
   "source": [
    "print(mybook)"
   ]
  },
  {
   "cell_type": "code",
   "execution_count": 38,
   "id": "85570369",
   "metadata": {},
   "outputs": [
    {
     "data": {
      "text/plain": [
       "800"
      ]
     },
     "execution_count": 38,
     "metadata": {},
     "output_type": "execute_result"
    }
   ],
   "source": [
    "len(mybook)"
   ]
  },
  {
   "cell_type": "code",
   "execution_count": 39,
   "id": "d3279a84",
   "metadata": {},
   "outputs": [
    {
     "name": "stdout",
     "output_type": "stream",
     "text": [
      "Your object is deleted successfully\n"
     ]
    }
   ],
   "source": [
    "del mybook"
   ]
  },
  {
   "cell_type": "code",
   "execution_count": null,
   "id": "3447c643",
   "metadata": {},
   "outputs": [],
   "source": []
  },
  {
   "cell_type": "code",
   "execution_count": null,
   "id": "571ff15a",
   "metadata": {},
   "outputs": [],
   "source": []
  }
 ],
 "metadata": {
  "kernelspec": {
   "display_name": "Python 3 (ipykernel)",
   "language": "python",
   "name": "python3"
  },
  "language_info": {
   "codemirror_mode": {
    "name": "ipython",
    "version": 3
   },
   "file_extension": ".py",
   "mimetype": "text/x-python",
   "name": "python",
   "nbconvert_exporter": "python",
   "pygments_lexer": "ipython3",
   "version": "3.10.9"
  }
 },
 "nbformat": 4,
 "nbformat_minor": 5
}
