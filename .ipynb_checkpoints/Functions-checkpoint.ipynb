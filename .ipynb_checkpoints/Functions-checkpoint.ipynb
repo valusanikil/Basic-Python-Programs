{
 "cells": [
  {
   "cell_type": "code",
   "execution_count": 44,
   "id": "5065c84a",
   "metadata": {},
   "outputs": [],
   "source": [
    "def say_hello():\n",
    "    print(\"Hello\")\n",
    "    print(\"How\")\n",
    "    print(\"are\")\n",
    "    print(\"you\")"
   ]
  },
  {
   "cell_type": "code",
   "execution_count": 45,
   "id": "891d1d16",
   "metadata": {},
   "outputs": [
    {
     "name": "stdout",
     "output_type": "stream",
     "text": [
      "Hello\n",
      "How\n",
      "are\n",
      "you\n"
     ]
    }
   ],
   "source": [
    "say_hello()"
   ]
  },
  {
   "cell_type": "code",
   "execution_count": 3,
   "id": "c5660d53",
   "metadata": {},
   "outputs": [],
   "source": [
    "def say_hello_with_name(name):\n",
    "    print(f\"Hello {name}\")"
   ]
  },
  {
   "cell_type": "code",
   "execution_count": 4,
   "id": "60425eff",
   "metadata": {},
   "outputs": [
    {
     "name": "stdout",
     "output_type": "stream",
     "text": [
      "Hello Nikil\n"
     ]
    }
   ],
   "source": [
    "say_hello_with_name(\"Nikil\")"
   ]
  },
  {
   "cell_type": "code",
   "execution_count": 5,
   "id": "090377dd",
   "metadata": {},
   "outputs": [],
   "source": [
    "def add_num(num1, num2):\n",
    "    return num1+num2"
   ]
  },
  {
   "cell_type": "code",
   "execution_count": 6,
   "id": "558ced6a",
   "metadata": {},
   "outputs": [
    {
     "data": {
      "text/plain": [
       "30"
      ]
     },
     "execution_count": 6,
     "metadata": {},
     "output_type": "execute_result"
    }
   ],
   "source": [
    "add_num(10,20)"
   ]
  },
  {
   "cell_type": "code",
   "execution_count": 8,
   "id": "a6d703a9",
   "metadata": {},
   "outputs": [
    {
     "name": "stdout",
     "output_type": "stream",
     "text": [
      "10\n"
     ]
    }
   ],
   "source": [
    "print(add_num(5,5))"
   ]
  },
  {
   "cell_type": "code",
   "execution_count": 9,
   "id": "3235f6be",
   "metadata": {},
   "outputs": [],
   "source": [
    "def print_result(a,b):\n",
    "    print(a+b)"
   ]
  },
  {
   "cell_type": "code",
   "execution_count": 10,
   "id": "fecf859e",
   "metadata": {},
   "outputs": [],
   "source": [
    "def return_result(a,b):\n",
    "    return a*b"
   ]
  },
  {
   "cell_type": "code",
   "execution_count": 11,
   "id": "1a7c57bc",
   "metadata": {},
   "outputs": [
    {
     "name": "stdout",
     "output_type": "stream",
     "text": [
      "20\n"
     ]
    }
   ],
   "source": [
    "print_result(10,10)"
   ]
  },
  {
   "cell_type": "code",
   "execution_count": 20,
   "id": "b8f76cdb",
   "metadata": {},
   "outputs": [
    {
     "name": "stdout",
     "output_type": "stream",
     "text": [
      "30\n"
     ]
    },
    {
     "data": {
      "text/plain": [
       "NoneType"
      ]
     },
     "execution_count": 20,
     "metadata": {},
     "output_type": "execute_result"
    }
   ],
   "source": [
    "type(print_result(10,20))"
   ]
  },
  {
   "cell_type": "code",
   "execution_count": 14,
   "id": "d489dd61",
   "metadata": {},
   "outputs": [
    {
     "data": {
      "text/plain": [
       "100"
      ]
     },
     "execution_count": 14,
     "metadata": {},
     "output_type": "execute_result"
    }
   ],
   "source": [
    "return_result(10,10)"
   ]
  },
  {
   "cell_type": "code",
   "execution_count": 21,
   "id": "069e3ba0",
   "metadata": {},
   "outputs": [
    {
     "data": {
      "text/plain": [
       "int"
      ]
     },
     "execution_count": 21,
     "metadata": {},
     "output_type": "execute_result"
    }
   ],
   "source": [
    "type(return_result(10,10))"
   ]
  },
  {
   "cell_type": "code",
   "execution_count": 24,
   "id": "f61ea55f",
   "metadata": {},
   "outputs": [
    {
     "name": "stdout",
     "output_type": "stream",
     "text": [
      "30\n"
     ]
    },
    {
     "data": {
      "text/plain": [
       "NoneType"
      ]
     },
     "execution_count": 24,
     "metadata": {},
     "output_type": "execute_result"
    }
   ],
   "source": [
    "type(print_result(10,20))"
   ]
  },
  {
   "cell_type": "code",
   "execution_count": 25,
   "id": "78dbb04c",
   "metadata": {},
   "outputs": [
    {
     "data": {
      "text/plain": [
       "int"
      ]
     },
     "execution_count": 25,
     "metadata": {},
     "output_type": "execute_result"
    }
   ],
   "source": [
    "type(return_result(10,20))"
   ]
  },
  {
   "cell_type": "code",
   "execution_count": 26,
   "id": "f6b918e6",
   "metadata": {},
   "outputs": [],
   "source": [
    "def myfunc(x,y):\n",
    "    print(x+y)\n",
    "    return x+y"
   ]
  },
  {
   "cell_type": "code",
   "execution_count": 27,
   "id": "928a5a5e",
   "metadata": {},
   "outputs": [
    {
     "name": "stdout",
     "output_type": "stream",
     "text": [
      "40\n"
     ]
    },
    {
     "data": {
      "text/plain": [
       "40"
      ]
     },
     "execution_count": 27,
     "metadata": {},
     "output_type": "execute_result"
    }
   ],
   "source": [
    "myfunc(10,30)"
   ]
  },
  {
   "cell_type": "code",
   "execution_count": 28,
   "id": "3f950011",
   "metadata": {},
   "outputs": [
    {
     "name": "stdout",
     "output_type": "stream",
     "text": [
      "40\n"
     ]
    }
   ],
   "source": [
    "res=myfunc(10,30)"
   ]
  },
  {
   "cell_type": "code",
   "execution_count": 29,
   "id": "cf413ac7",
   "metadata": {},
   "outputs": [
    {
     "data": {
      "text/plain": [
       "int"
      ]
     },
     "execution_count": 29,
     "metadata": {},
     "output_type": "execute_result"
    }
   ],
   "source": [
    "type(res)"
   ]
  },
  {
   "cell_type": "code",
   "execution_count": 30,
   "id": "db677961",
   "metadata": {},
   "outputs": [],
   "source": [
    "def sum_of_num(n1,n2):\n",
    "    return n1+n2"
   ]
  },
  {
   "cell_type": "code",
   "execution_count": 31,
   "id": "d1cf4471",
   "metadata": {},
   "outputs": [
    {
     "data": {
      "text/plain": [
       "30"
      ]
     },
     "execution_count": 31,
     "metadata": {},
     "output_type": "execute_result"
    }
   ],
   "source": [
    "sum_of_num(10,20)"
   ]
  },
  {
   "cell_type": "code",
   "execution_count": 32,
   "id": "569d3a18",
   "metadata": {},
   "outputs": [
    {
     "data": {
      "text/plain": [
       "'1020'"
      ]
     },
     "execution_count": 32,
     "metadata": {},
     "output_type": "execute_result"
    }
   ],
   "source": [
    "sum_of_num(\"10\",\"20\")"
   ]
  },
  {
   "cell_type": "code",
   "execution_count": 33,
   "id": "64bf4399",
   "metadata": {},
   "outputs": [
    {
     "data": {
      "text/plain": [
       "1.1"
      ]
     },
     "execution_count": 33,
     "metadata": {},
     "output_type": "execute_result"
    }
   ],
   "source": [
    "sum_of_num(0.5,0.6)"
   ]
  },
  {
   "cell_type": "code",
   "execution_count": 34,
   "id": "93fc5607",
   "metadata": {},
   "outputs": [
    {
     "data": {
      "text/plain": [
       "[1, 2, 3, 4, 5, 6]"
      ]
     },
     "execution_count": 34,
     "metadata": {},
     "output_type": "execute_result"
    }
   ],
   "source": [
    "sum_of_num([1,2,3],[4,5,6])"
   ]
  },
  {
   "cell_type": "code",
   "execution_count": 35,
   "id": "3d9389d0",
   "metadata": {},
   "outputs": [
    {
     "data": {
      "text/plain": [
       "(1, 2, 3, 10, 20, 30)"
      ]
     },
     "execution_count": 35,
     "metadata": {},
     "output_type": "execute_result"
    }
   ],
   "source": [
    "sum_of_num((1,2,3),(10,20,30))"
   ]
  },
  {
   "cell_type": "code",
   "execution_count": 42,
   "id": "4e12c3a6",
   "metadata": {},
   "outputs": [
    {
     "data": {
      "text/plain": [
       "[10, 20]"
      ]
     },
     "execution_count": 42,
     "metadata": {},
     "output_type": "execute_result"
    }
   ],
   "source": [
    "sum_of_num([10],[20])"
   ]
  },
  {
   "cell_type": "code",
   "execution_count": 52,
   "id": "35cde2f7",
   "metadata": {},
   "outputs": [],
   "source": [
    "def name_func(name=\"Default\"):\n",
    "    print(\"Hello {}\".format(name))"
   ]
  },
  {
   "cell_type": "code",
   "execution_count": 53,
   "id": "a79d0652",
   "metadata": {},
   "outputs": [
    {
     "name": "stdout",
     "output_type": "stream",
     "text": [
      "Hello Default\n"
     ]
    }
   ],
   "source": [
    "name_func()"
   ]
  },
  {
   "cell_type": "code",
   "execution_count": 54,
   "id": "68769085",
   "metadata": {},
   "outputs": [
    {
     "name": "stdout",
     "output_type": "stream",
     "text": [
      "Hello Vakul\n"
     ]
    }
   ],
   "source": [
    "name_func(\"Vakul\")"
   ]
  },
  {
   "cell_type": "code",
   "execution_count": 62,
   "id": "378f9121",
   "metadata": {},
   "outputs": [],
   "source": [
    "def even_check(num):\n",
    "    result=num%2==0\n",
    "    return result"
   ]
  },
  {
   "cell_type": "code",
   "execution_count": 63,
   "id": "57d3bdff",
   "metadata": {},
   "outputs": [
    {
     "data": {
      "text/plain": [
       "True"
      ]
     },
     "execution_count": 63,
     "metadata": {},
     "output_type": "execute_result"
    }
   ],
   "source": [
    "even_check(20)"
   ]
  },
  {
   "cell_type": "code",
   "execution_count": 64,
   "id": "5ef0e2f8",
   "metadata": {},
   "outputs": [
    {
     "data": {
      "text/plain": [
       "False"
      ]
     },
     "execution_count": 64,
     "metadata": {},
     "output_type": "execute_result"
    }
   ],
   "source": [
    "even_check(23)"
   ]
  },
  {
   "cell_type": "code",
   "execution_count": 69,
   "id": "fb4293cf",
   "metadata": {},
   "outputs": [],
   "source": [
    "def even_check_list(num_list):\n",
    "    for num in num_list:\n",
    "        if num %2==0:\n",
    "            return True\n",
    "        else:\n",
    "            pass\n",
    "    return False"
   ]
  },
  {
   "cell_type": "code",
   "execution_count": 70,
   "id": "8bed6b48",
   "metadata": {},
   "outputs": [
    {
     "data": {
      "text/plain": [
       "True"
      ]
     },
     "execution_count": 70,
     "metadata": {},
     "output_type": "execute_result"
    }
   ],
   "source": [
    "even_check_list([1,2,3])"
   ]
  },
  {
   "cell_type": "code",
   "execution_count": 73,
   "id": "1649cbc7",
   "metadata": {},
   "outputs": [
    {
     "data": {
      "text/plain": [
       "False"
      ]
     },
     "execution_count": 73,
     "metadata": {},
     "output_type": "execute_result"
    }
   ],
   "source": [
    "even_check_list([3,5,7])"
   ]
  },
  {
   "cell_type": "code",
   "execution_count": 91,
   "id": "a3bc69ac",
   "metadata": {},
   "outputs": [],
   "source": [
    "def even_check_nums(nums_list):\n",
    "    \n",
    "    even_num=[]\n",
    "    \n",
    "    for num in nums_list:\n",
    "        if num %2==0:\n",
    "            even_num.append(num)\n",
    "        else:\n",
    "            pass\n",
    "    return even_num"
   ]
  },
  {
   "cell_type": "code",
   "execution_count": 92,
   "id": "b50d889d",
   "metadata": {},
   "outputs": [
    {
     "data": {
      "text/plain": [
       "[2, 4]"
      ]
     },
     "execution_count": 92,
     "metadata": {},
     "output_type": "execute_result"
    }
   ],
   "source": [
    "even_check_nums([1,2,3,4])"
   ]
  },
  {
   "cell_type": "code",
   "execution_count": 95,
   "id": "59cb407f",
   "metadata": {},
   "outputs": [
    {
     "data": {
      "text/plain": [
       "[]"
      ]
     },
     "execution_count": 95,
     "metadata": {},
     "output_type": "execute_result"
    }
   ],
   "source": [
    "even_check_nums([1,3,5,7,9])"
   ]
  },
  {
   "cell_type": "code",
   "execution_count": 96,
   "id": "1209d7ae",
   "metadata": {},
   "outputs": [],
   "source": [
    "mobile_prices=[(\"Samsung\",98000),(\"Apple\",140000),(\"Oneplus\",58000)]"
   ]
  },
  {
   "cell_type": "code",
   "execution_count": 97,
   "id": "c5d73080",
   "metadata": {},
   "outputs": [
    {
     "name": "stdout",
     "output_type": "stream",
     "text": [
      "('Samsung', 98000)\n",
      "('Apple', 140000)\n",
      "('Oneplus', 58000)\n"
     ]
    }
   ],
   "source": [
    "for item in mobile_prices:\n",
    "    print(item)"
   ]
  },
  {
   "cell_type": "code",
   "execution_count": 103,
   "id": "ac3d3e8a",
   "metadata": {},
   "outputs": [
    {
     "name": "stdout",
     "output_type": "stream",
     "text": [
      "Samsung------> 98000\n",
      "Apple------> 140000\n",
      "Oneplus------> 58000\n"
     ]
    }
   ],
   "source": [
    "for mobile,price in mobile_prices:\n",
    "    print(mobile+\"------>\",price)"
   ]
  },
  {
   "cell_type": "code",
   "execution_count": 255,
   "id": "3022c37c",
   "metadata": {},
   "outputs": [],
   "source": [
    "work_hours=[(\"Abby\",1000),(\"Billy\",4000),(\"Cassie\",800)]"
   ]
  },
  {
   "cell_type": "code",
   "execution_count": 256,
   "id": "7d3f2cab",
   "metadata": {},
   "outputs": [],
   "source": [
    "def employee_check(work_hours):\n",
    "    \n",
    "    current_max=0\n",
    "    employee_of_month=''\n",
    "    \n",
    "    for employee,hours in work_hours:\n",
    "        if hours > current_max:\n",
    "            current_max=hours\n",
    "            employee_of_month=employee\n",
    "        else:\n",
    "            pass\n",
    "        \n",
    "    return (employee_of_month,current_max)"
   ]
  },
  {
   "cell_type": "code",
   "execution_count": 257,
   "id": "c2436058",
   "metadata": {},
   "outputs": [
    {
     "data": {
      "text/plain": [
       "('Billy', 4000)"
      ]
     },
     "execution_count": 257,
     "metadata": {},
     "output_type": "execute_result"
    }
   ],
   "source": [
    "employee_check(work_hours)"
   ]
  },
  {
   "cell_type": "code",
   "execution_count": 267,
   "id": "157c76ee",
   "metadata": {},
   "outputs": [],
   "source": [
    "example=[1,2,3,4,5,6,7]"
   ]
  },
  {
   "cell_type": "code",
   "execution_count": 282,
   "id": "078c1adf",
   "metadata": {},
   "outputs": [],
   "source": [
    "from random import shuffle"
   ]
  },
  {
   "cell_type": "code",
   "execution_count": 283,
   "id": "4f772674",
   "metadata": {},
   "outputs": [],
   "source": [
    "shuffle(example)"
   ]
  },
  {
   "cell_type": "code",
   "execution_count": 284,
   "id": "b6713d2e",
   "metadata": {},
   "outputs": [
    {
     "data": {
      "text/plain": [
       "[3, 7, 2, 4, 1, 5, 6]"
      ]
     },
     "execution_count": 284,
     "metadata": {},
     "output_type": "execute_result"
    }
   ],
   "source": [
    "example"
   ]
  },
  {
   "cell_type": "code",
   "execution_count": 287,
   "id": "64aad7e0",
   "metadata": {},
   "outputs": [],
   "source": [
    "def shuffle_ex(example):\n",
    "    shuffle(example)\n",
    "    return example"
   ]
  },
  {
   "cell_type": "code",
   "execution_count": null,
   "id": "76a7bace",
   "metadata": {},
   "outputs": [],
   "source": []
  }
 ],
 "metadata": {
  "kernelspec": {
   "display_name": "Python 3 (ipykernel)",
   "language": "python",
   "name": "python3"
  },
  "language_info": {
   "codemirror_mode": {
    "name": "ipython",
    "version": 3
   },
   "file_extension": ".py",
   "mimetype": "text/x-python",
   "name": "python",
   "nbconvert_exporter": "python",
   "pygments_lexer": "ipython3",
   "version": "3.10.9"
  }
 },
 "nbformat": 4,
 "nbformat_minor": 5
}
