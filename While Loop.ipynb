{
 "cells": [
  {
   "cell_type": "code",
   "execution_count": 76,
   "id": "d781496c",
   "metadata": {},
   "outputs": [
    {
     "name": "stdout",
     "output_type": "stream",
     "text": [
      "the number is 0\n",
      "the number is 1\n",
      "the number is 2\n",
      "the number is 3\n",
      "the number is 4\n",
      "No, X is not less than 5\n"
     ]
    }
   ],
   "source": [
    "x=0\n",
    "\n",
    "while x<5:\n",
    "    print(f\"the number is {x}\")\n",
    "    x=x+1\n",
    "else:\n",
    "    print(\"No, X is not less than 5\")"
   ]
  },
  {
   "cell_type": "code",
   "execution_count": 77,
   "id": "b7ba459a",
   "metadata": {},
   "outputs": [],
   "source": [
    "x=[1,2,3]"
   ]
  },
  {
   "cell_type": "code",
   "execution_count": 78,
   "id": "182d09f3",
   "metadata": {},
   "outputs": [
    {
     "name": "stdout",
     "output_type": "stream",
     "text": [
      "End of code\n"
     ]
    }
   ],
   "source": [
    "x=[1,2,3]\n",
    "for item in x:\n",
    "    #comment\n",
    "    pass\n",
    "    \n",
    "print(\"End of code\")"
   ]
  },
  {
   "cell_type": "code",
   "execution_count": 79,
   "id": "b13e508e",
   "metadata": {},
   "outputs": [
    {
     "name": "stdout",
     "output_type": "stream",
     "text": [
      "n\n",
      "k\n",
      "l\n"
     ]
    }
   ],
   "source": [
    "s=\"nikil\"\n",
    "for letter in s:\n",
    "    if letter=='i':\n",
    "        continue\n",
    "    print(letter)"
   ]
  },
  {
   "cell_type": "code",
   "execution_count": 80,
   "id": "cd7412d5",
   "metadata": {},
   "outputs": [
    {
     "name": "stdout",
     "output_type": "stream",
     "text": [
      "N\n",
      "i\n"
     ]
    }
   ],
   "source": [
    "my_string=\"Nikil\"\n",
    "\n",
    "for s in my_string:\n",
    "    if s=='k':\n",
    "        break\n",
    "    print(s)"
   ]
  },
  {
   "cell_type": "code",
   "execution_count": 81,
   "id": "71c405c9",
   "metadata": {},
   "outputs": [
    {
     "name": "stdout",
     "output_type": "stream",
     "text": [
      "0\n",
      "1\n"
     ]
    }
   ],
   "source": [
    "x=0\n",
    "while(x<5):\n",
    "    if x==2:\n",
    "        break\n",
    "    print(x)\n",
    "    x=x+1"
   ]
  },
  {
   "cell_type": "code",
   "execution_count": null,
   "id": "339b8f77",
   "metadata": {},
   "outputs": [],
   "source": []
  },
  {
   "cell_type": "code",
   "execution_count": null,
   "id": "5bf7777f",
   "metadata": {},
   "outputs": [],
   "source": []
  }
 ],
 "metadata": {
  "kernelspec": {
   "display_name": "Python 3 (ipykernel)",
   "language": "python",
   "name": "python3"
  },
  "language_info": {
   "codemirror_mode": {
    "name": "ipython",
    "version": 3
   },
   "file_extension": ".py",
   "mimetype": "text/x-python",
   "name": "python",
   "nbconvert_exporter": "python",
   "pygments_lexer": "ipython3",
   "version": "3.10.9"
  }
 },
 "nbformat": 4,
 "nbformat_minor": 5
}
