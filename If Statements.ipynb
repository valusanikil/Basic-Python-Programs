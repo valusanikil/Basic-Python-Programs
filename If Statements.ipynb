{
 "cells": [
  {
   "cell_type": "code",
   "execution_count": 1,
   "id": "d61f3a51",
   "metadata": {},
   "outputs": [
    {
     "name": "stdout",
     "output_type": "stream",
     "text": [
      "Yes, it's true!\n"
     ]
    }
   ],
   "source": [
    "if 3>2:\n",
    "    print(\"Yes, it's true!\")"
   ]
  },
  {
   "cell_type": "code",
   "execution_count": 6,
   "id": "9ad92745",
   "metadata": {},
   "outputs": [
    {
     "name": "stdout",
     "output_type": "stream",
     "text": [
      "No, its false!\n"
     ]
    }
   ],
   "source": [
    "a=3\n",
    "if a>4:\n",
    "    print(\"Yes, its true!\")\n",
    "else:\n",
    "    print(\"No, its false!\")"
   ]
  },
  {
   "cell_type": "code",
   "execution_count": 13,
   "id": "1ad3712c",
   "metadata": {},
   "outputs": [
    {
     "name": "stdout",
     "output_type": "stream",
     "text": [
      "hey Nikil\n"
     ]
    }
   ],
   "source": [
    "name=\"Nikil\"\n",
    "if name==\"Vakul\":\n",
    "    print(\"hey vakul\")\n",
    "elif name==\"Nikil\":\n",
    "    print(\"hey Nikil\")\n",
    "elif name==\"Ramu\":\n",
    "    print(\"hey Ramu\")\n",
    "elif name==\"Latha\":\n",
    "    print(\"hey Latha\")\n",
    "else:\n",
    "    print(\"what is your name?\")"
   ]
  },
  {
   "cell_type": "code",
   "execution_count": 16,
   "id": "97faf178",
   "metadata": {},
   "outputs": [
    {
     "name": "stdout",
     "output_type": "stream",
     "text": [
      "10 is less than 100\n"
     ]
    }
   ],
   "source": [
    "if (10<100):\n",
    "    print(\"10 is less than 100\")\n",
    "else:\n",
    "    print(\"wrong statement\")"
   ]
  },
  {
   "cell_type": "code",
   "execution_count": null,
   "id": "39267992",
   "metadata": {},
   "outputs": [],
   "source": []
  }
 ],
 "metadata": {
  "kernelspec": {
   "display_name": "Python 3 (ipykernel)",
   "language": "python",
   "name": "python3"
  },
  "language_info": {
   "codemirror_mode": {
    "name": "ipython",
    "version": 3
   },
   "file_extension": ".py",
   "mimetype": "text/x-python",
   "name": "python",
   "nbconvert_exporter": "python",
   "pygments_lexer": "ipython3",
   "version": "3.10.9"
  }
 },
 "nbformat": 4,
 "nbformat_minor": 5
}
