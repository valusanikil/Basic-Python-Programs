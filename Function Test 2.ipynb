{
 "cells": [
  {
   "cell_type": "code",
   "execution_count": 5,
   "id": "e286d282",
   "metadata": {},
   "outputs": [],
   "source": [
    "def vol(rad):\n",
    "    return (4/3)*3.14*rad*rad*rad"
   ]
  },
  {
   "cell_type": "code",
   "execution_count": 6,
   "id": "3256a6ac",
   "metadata": {},
   "outputs": [
    {
     "data": {
      "text/plain": [
       "33.49333333333333"
      ]
     },
     "execution_count": 6,
     "metadata": {},
     "output_type": "execute_result"
    }
   ],
   "source": [
    "vol(2)"
   ]
  },
  {
   "cell_type": "code",
   "execution_count": 35,
   "id": "3572a9e1",
   "metadata": {},
   "outputs": [],
   "source": [
    "def ran_check(num,low,high):\n",
    "    if num>=low and num<=high:\n",
    "        return f\"{num} is in the range between {low} and {high}\"\n",
    "    else:\n",
    "        return f\"{num} is not in the range between {low} and {high}\""
   ]
  },
  {
   "cell_type": "code",
   "execution_count": 36,
   "id": "737277be",
   "metadata": {},
   "outputs": [
    {
     "data": {
      "text/plain": [
       "'5 is in the range between 2 and 7'"
      ]
     },
     "execution_count": 36,
     "metadata": {},
     "output_type": "execute_result"
    }
   ],
   "source": [
    "ran_check(5,2,7)"
   ]
  },
  {
   "cell_type": "code",
   "execution_count": 37,
   "id": "4730e569",
   "metadata": {},
   "outputs": [
    {
     "data": {
      "text/plain": [
       "'2 is not in the range between 6 and 9'"
      ]
     },
     "execution_count": 37,
     "metadata": {},
     "output_type": "execute_result"
    }
   ],
   "source": [
    "ran_check(2,6,9)"
   ]
  },
  {
   "cell_type": "code",
   "execution_count": 65,
   "id": "c1881c86",
   "metadata": {},
   "outputs": [],
   "source": [
    "def up_lows(s):\n",
    "    mystring=\"\"+s\n",
    "    up_count=0\n",
    "    low_count=0\n",
    "    \n",
    "    for letter in mystring:\n",
    "        if letter.isupper():\n",
    "            up_count=up_count+1\n",
    "        elif letter.islower():\n",
    "            low_count=low_count+1\n",
    "            \n",
    "    print(f\"No of Upper case characters : {up_count}\")\n",
    "    print(f\"No of Lower case characters : {low_count}\")\n",
    "    "
   ]
  },
  {
   "cell_type": "code",
   "execution_count": 66,
   "id": "129aea76",
   "metadata": {},
   "outputs": [
    {
     "name": "stdout",
     "output_type": "stream",
     "text": [
      "No of Upper case characters : 4\n",
      "No of Lower case characters : 33\n"
     ]
    }
   ],
   "source": [
    "s= 'Hello Mr. Rogers, how are you this fine Tuesday?'\n",
    "up_lows(s)"
   ]
  },
  {
   "cell_type": "code",
   "execution_count": 80,
   "id": "7fef551c",
   "metadata": {},
   "outputs": [],
   "source": [
    "def unique_list(lst):\n",
    "    mylist=set(lst)\n",
    "    return list(mylist)"
   ]
  },
  {
   "cell_type": "code",
   "execution_count": 81,
   "id": "1fd512b7",
   "metadata": {},
   "outputs": [
    {
     "data": {
      "text/plain": [
       "[1, 2, 3, 4, 5]"
      ]
     },
     "execution_count": 81,
     "metadata": {},
     "output_type": "execute_result"
    }
   ],
   "source": [
    "unique_list([1,1,1,1,2,2,3,3,3,3,4,5])"
   ]
  },
  {
   "cell_type": "code",
   "execution_count": 145,
   "id": "90515c8a",
   "metadata": {},
   "outputs": [],
   "source": [
    "def multiply(numbers):\n",
    "    mul=1\n",
    "    for i in numbers:\n",
    "        mul=mul*i\n",
    "    \n",
    "    print(mul)"
   ]
  },
  {
   "cell_type": "code",
   "execution_count": 146,
   "id": "088023a9",
   "metadata": {},
   "outputs": [
    {
     "name": "stdout",
     "output_type": "stream",
     "text": [
      "-24\n"
     ]
    }
   ],
   "source": [
    "multiply([1,2,3,-4])"
   ]
  },
  {
   "cell_type": "code",
   "execution_count": 164,
   "id": "ca0cff8c",
   "metadata": {},
   "outputs": [],
   "source": [
    "def palindorme(s):\n",
    "    test=s[::-1]\n",
    "    if s==test:\n",
    "        return True\n",
    "    else:\n",
    "        return False"
   ]
  },
  {
   "cell_type": "code",
   "execution_count": 166,
   "id": "50204aa3",
   "metadata": {},
   "outputs": [
    {
     "data": {
      "text/plain": [
       "True"
      ]
     },
     "execution_count": 166,
     "metadata": {},
     "output_type": "execute_result"
    }
   ],
   "source": [
    "palindorme('helleh')"
   ]
  },
  {
   "cell_type": "code",
   "execution_count": 216,
   "id": "1bf1dac3",
   "metadata": {},
   "outputs": [],
   "source": [
    "import string\n",
    "\n",
    "def ispangram(str1, alphabet=string.ascii_lowercase):\n",
    "    str1=\"\"+str1\n",
    "    \n",
    "    for char in alphabet:\n",
    "        if char not in str1.lower():\n",
    "            return False\n",
    "    else:\n",
    "        return True\n",
    "            "
   ]
  },
  {
   "cell_type": "code",
   "execution_count": 217,
   "id": "9fbb2839",
   "metadata": {},
   "outputs": [
    {
     "data": {
      "text/plain": [
       "True"
      ]
     },
     "execution_count": 217,
     "metadata": {},
     "output_type": "execute_result"
    }
   ],
   "source": [
    "ispangram(\"The quick brown fox jumps over the lazy dog\")"
   ]
  },
  {
   "cell_type": "code",
   "execution_count": 218,
   "id": "ef8e1fa3",
   "metadata": {},
   "outputs": [
    {
     "data": {
      "text/plain": [
       "'abcdefghijklmnopqrstuvwxyz'"
      ]
     },
     "execution_count": 218,
     "metadata": {},
     "output_type": "execute_result"
    }
   ],
   "source": [
    "string.ascii_lowercase"
   ]
  },
  {
   "cell_type": "code",
   "execution_count": 219,
   "id": "f9628a38",
   "metadata": {},
   "outputs": [
    {
     "data": {
      "text/plain": [
       "False"
      ]
     },
     "execution_count": 219,
     "metadata": {},
     "output_type": "execute_result"
    }
   ],
   "source": [
    "ispangram(\"The quick dog\")"
   ]
  },
  {
   "cell_type": "code",
   "execution_count": null,
   "id": "81feb855",
   "metadata": {},
   "outputs": [],
   "source": []
  }
 ],
 "metadata": {
  "kernelspec": {
   "display_name": "Python 3 (ipykernel)",
   "language": "python",
   "name": "python3"
  },
  "language_info": {
   "codemirror_mode": {
    "name": "ipython",
    "version": 3
   },
   "file_extension": ".py",
   "mimetype": "text/x-python",
   "name": "python",
   "nbconvert_exporter": "python",
   "pygments_lexer": "ipython3",
   "version": "3.10.9"
  }
 },
 "nbformat": 4,
 "nbformat_minor": 5
}
