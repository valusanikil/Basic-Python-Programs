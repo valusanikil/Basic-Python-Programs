{
 "cells": [
  {
   "cell_type": "code",
   "execution_count": 69,
   "id": "a8dbc16d",
   "metadata": {},
   "outputs": [],
   "source": [
    "import math \n",
    "\n",
    "class Line:\n",
    "    \n",
    "    def __init__(self,coor1,coor2):\n",
    "        \n",
    "        self.coor1=coor1\n",
    "        self.coor2=coor2\n",
    "    \n",
    "    def distance(self):\n",
    "        \n",
    "        result=math.sqrt(((self.coor2[0]-self.coor1[0])**2) + ((self.coor2[1]-self.coor1[1])**2))\n",
    "        return result\n",
    "    \n",
    "    def slope(self):\n",
    "        \n",
    "        res= ((self.coor2[1]-self.coor1[1])/(self.coor2[0]-self.coor1[0]))\n",
    "        return res"
   ]
  },
  {
   "cell_type": "code",
   "execution_count": 70,
   "id": "b2e5a539",
   "metadata": {},
   "outputs": [],
   "source": [
    "coordinate1=(3,2)\n",
    "coordinate2=(8,10)\n",
    "\n",
    "li=Line(coordinate1,coordinate2)"
   ]
  },
  {
   "cell_type": "code",
   "execution_count": 71,
   "id": "357074f5",
   "metadata": {},
   "outputs": [
    {
     "data": {
      "text/plain": [
       "9.433981132056603"
      ]
     },
     "execution_count": 71,
     "metadata": {},
     "output_type": "execute_result"
    }
   ],
   "source": [
    "li.distance()"
   ]
  },
  {
   "cell_type": "code",
   "execution_count": 72,
   "id": "36e4baed",
   "metadata": {},
   "outputs": [
    {
     "data": {
      "text/plain": [
       "1.6"
      ]
     },
     "execution_count": 72,
     "metadata": {},
     "output_type": "execute_result"
    }
   ],
   "source": [
    "li.slope()"
   ]
  },
  {
   "cell_type": "code",
   "execution_count": null,
   "id": "af3264e3",
   "metadata": {},
   "outputs": [],
   "source": []
  },
  {
   "cell_type": "code",
   "execution_count": 101,
   "id": "1ee0b363",
   "metadata": {},
   "outputs": [],
   "source": [
    "class Cylinder:\n",
    "    \n",
    "    def __init__(self,height=1,radius=1):\n",
    "        self.height=height\n",
    "        self.radius=radius\n",
    "    \n",
    "    def volume(self):\n",
    "        \n",
    "        vol=3.14 * self.radius**2 * self.height\n",
    "        return vol\n",
    "    \n",
    "    def surface_area(self):\n",
    "        res= (2 * 3.14 * self.radius**2) + (2 * 3.14 * self.radius * self.height)\n",
    "        return res\n",
    "    "
   ]
  },
  {
   "cell_type": "code",
   "execution_count": 102,
   "id": "eb79313e",
   "metadata": {},
   "outputs": [],
   "source": [
    "c=Cylinder(2,3)"
   ]
  },
  {
   "cell_type": "code",
   "execution_count": 103,
   "id": "08f1dd12",
   "metadata": {},
   "outputs": [
    {
     "data": {
      "text/plain": [
       "56.52"
      ]
     },
     "execution_count": 103,
     "metadata": {},
     "output_type": "execute_result"
    }
   ],
   "source": [
    "c.volume()"
   ]
  },
  {
   "cell_type": "code",
   "execution_count": 104,
   "id": "68d338f8",
   "metadata": {},
   "outputs": [
    {
     "data": {
      "text/plain": [
       "94.2"
      ]
     },
     "execution_count": 104,
     "metadata": {},
     "output_type": "execute_result"
    }
   ],
   "source": [
    "c.surface_area()"
   ]
  },
  {
   "cell_type": "code",
   "execution_count": null,
   "id": "2b72794d",
   "metadata": {},
   "outputs": [],
   "source": []
  },
  {
   "cell_type": "code",
   "execution_count": 135,
   "id": "3b4fb409",
   "metadata": {},
   "outputs": [],
   "source": [
    "class Account:\n",
    "     \n",
    "        def __init__(self,owner,balance):\n",
    "            \n",
    "            self.owner=owner\n",
    "            self.balance=balance\n",
    "            \n",
    "        def deposit(self,amount):\n",
    "            \n",
    "            self.balance=self.balance+amount\n",
    "            print(\"Amount added successfully {}\".format(self.balance))\n",
    "            \n",
    "        def withdraw(self,amount):\n",
    "            \n",
    "            if amount <= self.balance:\n",
    "                self.balance=self.balance-amount\n",
    "                print(\"Available Balance {}\".format(self.balance))\n",
    "                \n",
    "            else:\n",
    "                print(\"Funds unavailable\")\n",
    "                \n",
    "        def __str__(self):\n",
    "            return f\"Account owner: {self.owner} \\nAccount balance: ${self.balance}\"\n",
    "                "
   ]
  },
  {
   "cell_type": "code",
   "execution_count": 136,
   "id": "ac07fe13",
   "metadata": {},
   "outputs": [],
   "source": [
    "acct1=Account(\"Nikil\",100)"
   ]
  },
  {
   "cell_type": "code",
   "execution_count": 137,
   "id": "715c08d2",
   "metadata": {},
   "outputs": [
    {
     "name": "stdout",
     "output_type": "stream",
     "text": [
      "Account owner: Nikil \n",
      "Account balance: $100\n"
     ]
    }
   ],
   "source": [
    "print(acct1)"
   ]
  },
  {
   "cell_type": "code",
   "execution_count": 138,
   "id": "46247040",
   "metadata": {},
   "outputs": [
    {
     "data": {
      "text/plain": [
       "'Nikil'"
      ]
     },
     "execution_count": 138,
     "metadata": {},
     "output_type": "execute_result"
    }
   ],
   "source": [
    "acct1.owner"
   ]
  },
  {
   "cell_type": "code",
   "execution_count": 139,
   "id": "b42b1976",
   "metadata": {},
   "outputs": [
    {
     "data": {
      "text/plain": [
       "100"
      ]
     },
     "execution_count": 139,
     "metadata": {},
     "output_type": "execute_result"
    }
   ],
   "source": [
    "acct1.balance"
   ]
  },
  {
   "cell_type": "code",
   "execution_count": 140,
   "id": "4ce700bc",
   "metadata": {},
   "outputs": [
    {
     "name": "stdout",
     "output_type": "stream",
     "text": [
      "Amount added successfully 120\n"
     ]
    }
   ],
   "source": [
    "acct1.deposit(20)"
   ]
  },
  {
   "cell_type": "code",
   "execution_count": 141,
   "id": "a80d8cae",
   "metadata": {},
   "outputs": [
    {
     "name": "stdout",
     "output_type": "stream",
     "text": [
      "Available Balance 50\n"
     ]
    }
   ],
   "source": [
    "acct1.withdraw(70)"
   ]
  },
  {
   "cell_type": "code",
   "execution_count": 142,
   "id": "b5da2ee2",
   "metadata": {},
   "outputs": [
    {
     "name": "stdout",
     "output_type": "stream",
     "text": [
      "Funds unavailable\n"
     ]
    }
   ],
   "source": [
    "acct1.withdraw(100)"
   ]
  },
  {
   "cell_type": "code",
   "execution_count": null,
   "id": "93e3db5d",
   "metadata": {},
   "outputs": [],
   "source": []
  },
  {
   "cell_type": "code",
   "execution_count": null,
   "id": "a91e1ed2",
   "metadata": {},
   "outputs": [],
   "source": []
  }
 ],
 "metadata": {
  "kernelspec": {
   "display_name": "Python 3 (ipykernel)",
   "language": "python",
   "name": "python3"
  },
  "language_info": {
   "codemirror_mode": {
    "name": "ipython",
    "version": 3
   },
   "file_extension": ".py",
   "mimetype": "text/x-python",
   "name": "python",
   "nbconvert_exporter": "python",
   "pygments_lexer": "ipython3",
   "version": "3.10.9"
  }
 },
 "nbformat": 4,
 "nbformat_minor": 5
}
