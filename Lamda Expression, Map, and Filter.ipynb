{
 "cells": [
  {
   "cell_type": "code",
   "execution_count": 35,
   "id": "408ab3f1",
   "metadata": {},
   "outputs": [],
   "source": [
    "def square(num):\n",
    "    return num **2"
   ]
  },
  {
   "cell_type": "code",
   "execution_count": 36,
   "id": "4badece7",
   "metadata": {},
   "outputs": [
    {
     "data": {
      "text/plain": [
       "25"
      ]
     },
     "execution_count": 36,
     "metadata": {},
     "output_type": "execute_result"
    }
   ],
   "source": [
    "square(5)"
   ]
  },
  {
   "cell_type": "code",
   "execution_count": 37,
   "id": "8abc1e4c",
   "metadata": {},
   "outputs": [
    {
     "data": {
      "text/plain": [
       "9"
      ]
     },
     "execution_count": 37,
     "metadata": {},
     "output_type": "execute_result"
    }
   ],
   "source": [
    "square(3)"
   ]
  },
  {
   "cell_type": "code",
   "execution_count": 27,
   "id": "38a47f8e",
   "metadata": {},
   "outputs": [],
   "source": [
    "nums=[1,2,3,4,5]"
   ]
  },
  {
   "cell_type": "code",
   "execution_count": 28,
   "id": "9598d9c6",
   "metadata": {},
   "outputs": [
    {
     "data": {
      "text/plain": [
       "<map at 0x29ee865b3d0>"
      ]
     },
     "execution_count": 28,
     "metadata": {},
     "output_type": "execute_result"
    }
   ],
   "source": [
    "map(square,nums)"
   ]
  },
  {
   "cell_type": "code",
   "execution_count": 8,
   "id": "9f514664",
   "metadata": {},
   "outputs": [
    {
     "name": "stdout",
     "output_type": "stream",
     "text": [
      "1\n",
      "4\n",
      "9\n",
      "16\n",
      "25\n"
     ]
    }
   ],
   "source": [
    "for item in map(square,nums):\n",
    "    print(item)"
   ]
  },
  {
   "cell_type": "code",
   "execution_count": 10,
   "id": "62c306b0",
   "metadata": {},
   "outputs": [
    {
     "data": {
      "text/plain": [
       "[1, 4, 9, 16, 25]"
      ]
     },
     "execution_count": 10,
     "metadata": {},
     "output_type": "execute_result"
    }
   ],
   "source": [
    "list(map(square,nums))"
   ]
  },
  {
   "cell_type": "code",
   "execution_count": 74,
   "id": "e447822e",
   "metadata": {},
   "outputs": [],
   "source": [
    "def splicer(mystring):\n",
    "    if len(mystring)%2==0:\n",
    "        return \"EVEN\"\n",
    "    else:\n",
    "        return mystring[0]"
   ]
  },
  {
   "cell_type": "code",
   "execution_count": 75,
   "id": "8486e323",
   "metadata": {},
   "outputs": [],
   "source": [
    "names=[\"Niki\",\"Vakul\",\"Ramu\",\"Latha\"]"
   ]
  },
  {
   "cell_type": "code",
   "execution_count": 76,
   "id": "23148e4d",
   "metadata": {},
   "outputs": [
    {
     "data": {
      "text/plain": [
       "<map at 0x29ee84a6620>"
      ]
     },
     "execution_count": 76,
     "metadata": {},
     "output_type": "execute_result"
    }
   ],
   "source": [
    "map(splicer,names)"
   ]
  },
  {
   "cell_type": "code",
   "execution_count": 77,
   "id": "09d7d4df",
   "metadata": {},
   "outputs": [
    {
     "data": {
      "text/plain": [
       "['EVEN', 'V', 'EVEN', 'L']"
      ]
     },
     "execution_count": 77,
     "metadata": {},
     "output_type": "execute_result"
    }
   ],
   "source": [
    "list(map(splicer,names))"
   ]
  },
  {
   "cell_type": "code",
   "execution_count": 78,
   "id": "e3e538b3",
   "metadata": {},
   "outputs": [],
   "source": [
    "def check_even(num):\n",
    "    return num%2==0"
   ]
  },
  {
   "cell_type": "code",
   "execution_count": 80,
   "id": "32d98bed",
   "metadata": {},
   "outputs": [],
   "source": [
    "mynums=[1,2,3,4,5,6]"
   ]
  },
  {
   "cell_type": "code",
   "execution_count": 81,
   "id": "055257f0",
   "metadata": {},
   "outputs": [
    {
     "data": {
      "text/plain": [
       "<filter at 0x29ee8709b10>"
      ]
     },
     "execution_count": 81,
     "metadata": {},
     "output_type": "execute_result"
    }
   ],
   "source": [
    "filter(check_even,mynums)"
   ]
  },
  {
   "cell_type": "code",
   "execution_count": 82,
   "id": "b1434f94",
   "metadata": {},
   "outputs": [
    {
     "data": {
      "text/plain": [
       "[2, 4, 6]"
      ]
     },
     "execution_count": 82,
     "metadata": {},
     "output_type": "execute_result"
    }
   ],
   "source": [
    "list(filter(check_even,mynums))"
   ]
  },
  {
   "cell_type": "code",
   "execution_count": 83,
   "id": "74bbc78a",
   "metadata": {},
   "outputs": [
    {
     "name": "stdout",
     "output_type": "stream",
     "text": [
      "2\n",
      "4\n",
      "6\n"
     ]
    }
   ],
   "source": [
    "for n in filter(check_even,mynums):\n",
    "    print(n)"
   ]
  },
  {
   "cell_type": "code",
   "execution_count": 100,
   "id": "6b786fd8",
   "metadata": {},
   "outputs": [],
   "source": [
    "squaring= lambda num: num **2"
   ]
  },
  {
   "cell_type": "code",
   "execution_count": 101,
   "id": "d04b8aae",
   "metadata": {},
   "outputs": [
    {
     "data": {
      "text/plain": [
       "121"
      ]
     },
     "execution_count": 101,
     "metadata": {},
     "output_type": "execute_result"
    }
   ],
   "source": [
    "squaring(11)"
   ]
  },
  {
   "cell_type": "code",
   "execution_count": 104,
   "id": "09434670",
   "metadata": {},
   "outputs": [
    {
     "data": {
      "text/plain": [
       "[1, 4, 9, 16, 25]"
      ]
     },
     "execution_count": 104,
     "metadata": {},
     "output_type": "execute_result"
    }
   ],
   "source": [
    "list(map(lambda num: num **2,nums))"
   ]
  },
  {
   "cell_type": "code",
   "execution_count": 113,
   "id": "a4decb4c",
   "metadata": {},
   "outputs": [],
   "source": [
    "evenodd=lambda num: num%2==0"
   ]
  },
  {
   "cell_type": "code",
   "execution_count": 117,
   "id": "b2157653",
   "metadata": {},
   "outputs": [
    {
     "data": {
      "text/plain": [
       "True"
      ]
     },
     "execution_count": 117,
     "metadata": {},
     "output_type": "execute_result"
    }
   ],
   "source": [
    "evenodd(4)"
   ]
  },
  {
   "cell_type": "code",
   "execution_count": 120,
   "id": "651a880c",
   "metadata": {},
   "outputs": [
    {
     "data": {
      "text/plain": [
       "[2, 4, 6]"
      ]
     },
     "execution_count": 120,
     "metadata": {},
     "output_type": "execute_result"
    }
   ],
   "source": [
    "list(filter(lambda num: num%2==0,mynums))"
   ]
  },
  {
   "cell_type": "code",
   "execution_count": 121,
   "id": "0bd22e0e",
   "metadata": {},
   "outputs": [
    {
     "data": {
      "text/plain": [
       "['Niki', 'Vakul', 'Ramu', 'Latha']"
      ]
     },
     "execution_count": 121,
     "metadata": {},
     "output_type": "execute_result"
    }
   ],
   "source": [
    "names"
   ]
  },
  {
   "cell_type": "code",
   "execution_count": 122,
   "id": "7b50cffc",
   "metadata": {},
   "outputs": [
    {
     "data": {
      "text/plain": [
       "<map at 0x29ee8f1dc30>"
      ]
     },
     "execution_count": 122,
     "metadata": {},
     "output_type": "execute_result"
    }
   ],
   "source": [
    "map(lambda name: name[0],names)"
   ]
  },
  {
   "cell_type": "code",
   "execution_count": 123,
   "id": "54fc5d5d",
   "metadata": {},
   "outputs": [
    {
     "data": {
      "text/plain": [
       "['N', 'V', 'R', 'L']"
      ]
     },
     "execution_count": 123,
     "metadata": {},
     "output_type": "execute_result"
    }
   ],
   "source": [
    "list(map(lambda name: name[0],names))"
   ]
  },
  {
   "cell_type": "code",
   "execution_count": null,
   "id": "53cf3faa",
   "metadata": {},
   "outputs": [],
   "source": []
  }
 ],
 "metadata": {
  "kernelspec": {
   "display_name": "Python 3 (ipykernel)",
   "language": "python",
   "name": "python3"
  },
  "language_info": {
   "codemirror_mode": {
    "name": "ipython",
    "version": 3
   },
   "file_extension": ".py",
   "mimetype": "text/x-python",
   "name": "python",
   "nbconvert_exporter": "python",
   "pygments_lexer": "ipython3",
   "version": "3.10.9"
  }
 },
 "nbformat": 4,
 "nbformat_minor": 5
}
