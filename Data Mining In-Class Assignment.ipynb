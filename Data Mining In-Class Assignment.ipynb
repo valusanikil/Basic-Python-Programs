{
 "cells": [
  {
   "cell_type": "code",
   "execution_count": 32,
   "id": "437c3631",
   "metadata": {},
   "outputs": [],
   "source": [
    "# import packages\n",
    "import pandas as pd\n",
    "from sklearn.model_selection import train_test_split\n",
    "from sklearn.tree import DecisionTreeClassifier\n",
    "from sklearn.metrics import confusion_matrix, accuracy_score, precision_score, recall_score\n",
    "import numpy as np\n",
    "from sklearn.preprocessing import OrdinalEncoder\n",
    "from sklearn.preprocessing import LabelEncoder\n"
   ]
  },
  {
   "cell_type": "code",
   "execution_count": 33,
   "id": "f9cd6dbc",
   "metadata": {},
   "outputs": [],
   "source": [
    "from random import random"
   ]
  },
  {
   "cell_type": "markdown",
   "id": "374a1451",
   "metadata": {},
   "source": [
    "Gini index computation"
   ]
  },
  {
   "cell_type": "code",
   "execution_count": 34,
   "id": "cbe09bde",
   "metadata": {},
   "outputs": [],
   "source": [
    "#Gini= 1-sum((pi)^2), where i is each event"
   ]
  },
  {
   "cell_type": "code",
   "execution_count": 35,
   "id": "785d8336",
   "metadata": {},
   "outputs": [],
   "source": [
    "def epsilon_greedy(e):\n",
    "    if e<1 and e>0:\n",
    "        if random() < e:\n",
    "            #choose a random Gini\n",
    "            print('random action')\n",
    "        else:\n",
    "            #choose a min Gini\n",
    "            print('minimum action')"
   ]
  },
  {
   "cell_type": "code",
   "execution_count": 36,
   "id": "0e817e42",
   "metadata": {},
   "outputs": [
    {
     "name": "stdout",
     "output_type": "stream",
     "text": [
      "minimum action\n",
      "minimum action\n",
      "minimum action\n",
      "minimum action\n",
      "minimum action\n",
      "minimum action\n",
      "minimum action\n",
      "minimum action\n",
      "minimum action\n",
      "minimum action\n",
      "minimum action\n",
      "minimum action\n",
      "minimum action\n",
      "random action\n",
      "minimum action\n",
      "minimum action\n",
      "minimum action\n",
      "minimum action\n",
      "minimum action\n",
      "minimum action\n",
      "minimum action\n",
      "minimum action\n",
      "minimum action\n",
      "minimum action\n",
      "minimum action\n",
      "minimum action\n",
      "minimum action\n",
      "minimum action\n",
      "minimum action\n",
      "minimum action\n",
      "minimum action\n",
      "minimum action\n",
      "random action\n",
      "minimum action\n",
      "minimum action\n",
      "minimum action\n",
      "minimum action\n",
      "minimum action\n",
      "minimum action\n",
      "minimum action\n",
      "minimum action\n",
      "minimum action\n",
      "minimum action\n",
      "minimum action\n",
      "minimum action\n",
      "minimum action\n",
      "minimum action\n",
      "minimum action\n",
      "minimum action\n",
      "minimum action\n"
     ]
    },
    {
     "data": {
      "text/plain": [
       "[None,\n",
       " None,\n",
       " None,\n",
       " None,\n",
       " None,\n",
       " None,\n",
       " None,\n",
       " None,\n",
       " None,\n",
       " None,\n",
       " None,\n",
       " None,\n",
       " None,\n",
       " None,\n",
       " None,\n",
       " None,\n",
       " None,\n",
       " None,\n",
       " None,\n",
       " None,\n",
       " None,\n",
       " None,\n",
       " None,\n",
       " None,\n",
       " None,\n",
       " None,\n",
       " None,\n",
       " None,\n",
       " None,\n",
       " None,\n",
       " None,\n",
       " None,\n",
       " None,\n",
       " None,\n",
       " None,\n",
       " None,\n",
       " None,\n",
       " None,\n",
       " None,\n",
       " None,\n",
       " None,\n",
       " None,\n",
       " None,\n",
       " None,\n",
       " None,\n",
       " None,\n",
       " None,\n",
       " None,\n",
       " None,\n",
       " None]"
      ]
     },
     "execution_count": 36,
     "metadata": {},
     "output_type": "execute_result"
    }
   ],
   "source": [
    "[epsilon_greedy(0.08) for i in range(50)]"
   ]
  },
  {
   "cell_type": "code",
   "execution_count": 37,
   "id": "8176d6b1",
   "metadata": {},
   "outputs": [
    {
     "name": "stdout",
     "output_type": "stream",
     "text": [
      "Height of the tree is 3\n"
     ]
    }
   ],
   "source": [
    "class Demo:\n",
    " \n",
    "    # Constructor to create a new node\n",
    "    def __init__(self, data):\n",
    "        self.data = data\n",
    "        self.left = None\n",
    "        self.right = None\n",
    " \n",
    " \n",
    "def maximumDepth(node):\n",
    "    if node is None:\n",
    "        return 0\n",
    " \n",
    "    else:\n",
    " \n",
    "        # Compute the depth of each subtree\n",
    "        left = maximumDepth(node.left)\n",
    "        right = maximumDepth(node.right)\n",
    " \n",
    "        # Use the larger one\n",
    "        if (left > right):\n",
    "            return left+1\n",
    "        else:\n",
    "            return right+1\n",
    " \n",
    " \n",
    "# Driver program to test above function\n",
    "root = Demo(1)\n",
    "root.left = Demo(2)\n",
    "root.right = Demo(3)\n",
    "root.left.left = Demo(4)\n",
    "root.left.right = Demo(5)\n",
    " \n",
    " \n",
    "print(\"Height of the tree is %d\" % (maximumDepth(root)))"
   ]
  },
  {
   "cell_type": "markdown",
   "id": "ec5d65a3",
   "metadata": {},
   "source": [
    "Entropy:\n",
    "\n",
    "The level of uncertainty or randomness in a probability distribution is measured using the information theory notion of entropy. Higher entropy denotes more unpredictable behaviour, and it evaluates how startled we would be by an event's outcome."
   ]
  },
  {
   "cell_type": "markdown",
   "id": "16fb196a",
   "metadata": {},
   "source": [
    "Cross Entropy: \n",
    "    \n",
    "cross entropy measures the variance between two probability distributions. It is frequently used in statistics and machine learning to evaluate how closely one probability distribution (typically a predicted one) resembles another (typically the true or target distribution). By lessening the difference between expected and actual results, minimising cross entropy helps enhance the accuracy of prediction models."
   ]
  },
  {
   "cell_type": "code",
   "execution_count": null,
   "id": "12e6a3ac",
   "metadata": {},
   "outputs": [],
   "source": []
  }
 ],
 "metadata": {
  "kernelspec": {
   "display_name": "Python 3 (ipykernel)",
   "language": "python",
   "name": "python3"
  },
  "language_info": {
   "codemirror_mode": {
    "name": "ipython",
    "version": 3
   },
   "file_extension": ".py",
   "mimetype": "text/x-python",
   "name": "python",
   "nbconvert_exporter": "python",
   "pygments_lexer": "ipython3",
   "version": "3.10.9"
  }
 },
 "nbformat": 4,
 "nbformat_minor": 5
}
