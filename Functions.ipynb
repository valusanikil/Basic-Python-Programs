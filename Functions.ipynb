{
 "cells": [
  {
   "cell_type": "code",
   "execution_count": 44,
   "id": "2c3e4bec",
   "metadata": {},
   "outputs": [],
   "source": [
    "def say_hello():\n",
    "    print(\"Hello\")\n",
    "    print(\"How\")\n",
    "    print(\"are\")\n",
    "    print(\"you\")"
   ]
  },
  {
   "cell_type": "code",
   "execution_count": 45,
   "id": "30bb5e15",
   "metadata": {},
   "outputs": [
    {
     "name": "stdout",
     "output_type": "stream",
     "text": [
      "Hello\n",
      "How\n",
      "are\n",
      "you\n"
     ]
    }
   ],
   "source": [
    "say_hello()"
   ]
  },
  {
   "cell_type": "code",
   "execution_count": 3,
   "id": "dbb27dc9",
   "metadata": {},
   "outputs": [],
   "source": [
    "def say_hello_with_name(name):\n",
    "    print(f\"Hello {name}\")"
   ]
  },
  {
   "cell_type": "code",
   "execution_count": 4,
   "id": "ec384dec",
   "metadata": {},
   "outputs": [
    {
     "name": "stdout",
     "output_type": "stream",
     "text": [
      "Hello Nikil\n"
     ]
    }
   ],
   "source": [
    "say_hello_with_name(\"Nikil\")"
   ]
  },
  {
   "cell_type": "code",
   "execution_count": 5,
   "id": "49674644",
   "metadata": {},
   "outputs": [],
   "source": [
    "def add_num(num1, num2):\n",
    "    return num1+num2"
   ]
  },
  {
   "cell_type": "code",
   "execution_count": 6,
   "id": "1fa5405e",
   "metadata": {},
   "outputs": [
    {
     "data": {
      "text/plain": [
       "30"
      ]
     },
     "execution_count": 6,
     "metadata": {},
     "output_type": "execute_result"
    }
   ],
   "source": [
    "add_num(10,20)"
   ]
  },
  {
   "cell_type": "code",
   "execution_count": 8,
   "id": "d1fe33a8",
   "metadata": {},
   "outputs": [
    {
     "name": "stdout",
     "output_type": "stream",
     "text": [
      "10\n"
     ]
    }
   ],
   "source": [
    "print(add_num(5,5))"
   ]
  },
  {
   "cell_type": "code",
   "execution_count": 9,
   "id": "cc04b494",
   "metadata": {},
   "outputs": [],
   "source": [
    "def print_result(a,b):\n",
    "    print(a+b)"
   ]
  },
  {
   "cell_type": "code",
   "execution_count": 10,
   "id": "d2a9e66b",
   "metadata": {},
   "outputs": [],
   "source": [
    "def return_result(a,b):\n",
    "    return a*b"
   ]
  },
  {
   "cell_type": "code",
   "execution_count": 11,
   "id": "ee638bf7",
   "metadata": {},
   "outputs": [
    {
     "name": "stdout",
     "output_type": "stream",
     "text": [
      "20\n"
     ]
    }
   ],
   "source": [
    "print_result(10,10)"
   ]
  },
  {
   "cell_type": "code",
   "execution_count": 20,
   "id": "7646181f",
   "metadata": {},
   "outputs": [
    {
     "name": "stdout",
     "output_type": "stream",
     "text": [
      "30\n"
     ]
    },
    {
     "data": {
      "text/plain": [
       "NoneType"
      ]
     },
     "execution_count": 20,
     "metadata": {},
     "output_type": "execute_result"
    }
   ],
   "source": [
    "type(print_result(10,20))"
   ]
  },
  {
   "cell_type": "code",
   "execution_count": 14,
   "id": "0370a446",
   "metadata": {},
   "outputs": [
    {
     "data": {
      "text/plain": [
       "100"
      ]
     },
     "execution_count": 14,
     "metadata": {},
     "output_type": "execute_result"
    }
   ],
   "source": [
    "return_result(10,10)"
   ]
  },
  {
   "cell_type": "code",
   "execution_count": 21,
   "id": "4ecf25dd",
   "metadata": {},
   "outputs": [
    {
     "data": {
      "text/plain": [
       "int"
      ]
     },
     "execution_count": 21,
     "metadata": {},
     "output_type": "execute_result"
    }
   ],
   "source": [
    "type(return_result(10,10))"
   ]
  },
  {
   "cell_type": "code",
   "execution_count": 24,
   "id": "03462cd6",
   "metadata": {},
   "outputs": [
    {
     "name": "stdout",
     "output_type": "stream",
     "text": [
      "30\n"
     ]
    },
    {
     "data": {
      "text/plain": [
       "NoneType"
      ]
     },
     "execution_count": 24,
     "metadata": {},
     "output_type": "execute_result"
    }
   ],
   "source": [
    "type(print_result(10,20))"
   ]
  },
  {
   "cell_type": "code",
   "execution_count": 25,
   "id": "d1a83fc7",
   "metadata": {},
   "outputs": [
    {
     "data": {
      "text/plain": [
       "int"
      ]
     },
     "execution_count": 25,
     "metadata": {},
     "output_type": "execute_result"
    }
   ],
   "source": [
    "type(return_result(10,20))"
   ]
  },
  {
   "cell_type": "code",
   "execution_count": 26,
   "id": "2775040a",
   "metadata": {},
   "outputs": [],
   "source": [
    "def myfunc(x,y):\n",
    "    print(x+y)\n",
    "    return x+y"
   ]
  },
  {
   "cell_type": "code",
   "execution_count": 27,
   "id": "2e6d99e7",
   "metadata": {},
   "outputs": [
    {
     "name": "stdout",
     "output_type": "stream",
     "text": [
      "40\n"
     ]
    },
    {
     "data": {
      "text/plain": [
       "40"
      ]
     },
     "execution_count": 27,
     "metadata": {},
     "output_type": "execute_result"
    }
   ],
   "source": [
    "myfunc(10,30)"
   ]
  },
  {
   "cell_type": "code",
   "execution_count": 28,
   "id": "941d3e35",
   "metadata": {},
   "outputs": [
    {
     "name": "stdout",
     "output_type": "stream",
     "text": [
      "40\n"
     ]
    }
   ],
   "source": [
    "res=myfunc(10,30)"
   ]
  },
  {
   "cell_type": "code",
   "execution_count": 29,
   "id": "c17dc047",
   "metadata": {},
   "outputs": [
    {
     "data": {
      "text/plain": [
       "int"
      ]
     },
     "execution_count": 29,
     "metadata": {},
     "output_type": "execute_result"
    }
   ],
   "source": [
    "type(res)"
   ]
  },
  {
   "cell_type": "code",
   "execution_count": 30,
   "id": "866fa2c8",
   "metadata": {},
   "outputs": [],
   "source": [
    "def sum_of_num(n1,n2):\n",
    "    return n1+n2"
   ]
  },
  {
   "cell_type": "code",
   "execution_count": 31,
   "id": "9ce65842",
   "metadata": {},
   "outputs": [
    {
     "data": {
      "text/plain": [
       "30"
      ]
     },
     "execution_count": 31,
     "metadata": {},
     "output_type": "execute_result"
    }
   ],
   "source": [
    "sum_of_num(10,20)"
   ]
  },
  {
   "cell_type": "code",
   "execution_count": 32,
   "id": "3bed4df9",
   "metadata": {},
   "outputs": [
    {
     "data": {
      "text/plain": [
       "'1020'"
      ]
     },
     "execution_count": 32,
     "metadata": {},
     "output_type": "execute_result"
    }
   ],
   "source": [
    "sum_of_num(\"10\",\"20\")"
   ]
  },
  {
   "cell_type": "code",
   "execution_count": 33,
   "id": "b9723276",
   "metadata": {},
   "outputs": [
    {
     "data": {
      "text/plain": [
       "1.1"
      ]
     },
     "execution_count": 33,
     "metadata": {},
     "output_type": "execute_result"
    }
   ],
   "source": [
    "sum_of_num(0.5,0.6)"
   ]
  },
  {
   "cell_type": "code",
   "execution_count": 34,
   "id": "e910d381",
   "metadata": {},
   "outputs": [
    {
     "data": {
      "text/plain": [
       "[1, 2, 3, 4, 5, 6]"
      ]
     },
     "execution_count": 34,
     "metadata": {},
     "output_type": "execute_result"
    }
   ],
   "source": [
    "sum_of_num([1,2,3],[4,5,6])"
   ]
  },
  {
   "cell_type": "code",
   "execution_count": 35,
   "id": "ef5fb273",
   "metadata": {},
   "outputs": [
    {
     "data": {
      "text/plain": [
       "(1, 2, 3, 10, 20, 30)"
      ]
     },
     "execution_count": 35,
     "metadata": {},
     "output_type": "execute_result"
    }
   ],
   "source": [
    "sum_of_num((1,2,3),(10,20,30))"
   ]
  },
  {
   "cell_type": "code",
   "execution_count": 42,
   "id": "d2e00abd",
   "metadata": {},
   "outputs": [
    {
     "data": {
      "text/plain": [
       "[10, 20]"
      ]
     },
     "execution_count": 42,
     "metadata": {},
     "output_type": "execute_result"
    }
   ],
   "source": [
    "sum_of_num([10],[20])"
   ]
  },
  {
   "cell_type": "code",
   "execution_count": 52,
   "id": "41223c41",
   "metadata": {},
   "outputs": [],
   "source": [
    "def name_func(name=\"Default\"):\n",
    "    print(\"Hello {}\".format(name))"
   ]
  },
  {
   "cell_type": "code",
   "execution_count": 53,
   "id": "e7d63419",
   "metadata": {},
   "outputs": [
    {
     "name": "stdout",
     "output_type": "stream",
     "text": [
      "Hello Default\n"
     ]
    }
   ],
   "source": [
    "name_func()"
   ]
  },
  {
   "cell_type": "code",
   "execution_count": 54,
   "id": "8c841b99",
   "metadata": {},
   "outputs": [
    {
     "name": "stdout",
     "output_type": "stream",
     "text": [
      "Hello Vakul\n"
     ]
    }
   ],
   "source": [
    "name_func(\"Vakul\")"
   ]
  },
  {
   "cell_type": "code",
   "execution_count": 62,
   "id": "515f8b0f",
   "metadata": {},
   "outputs": [],
   "source": [
    "def even_check(num):\n",
    "    result=num%2==0\n",
    "    return result"
   ]
  },
  {
   "cell_type": "code",
   "execution_count": 63,
   "id": "4146b00f",
   "metadata": {},
   "outputs": [
    {
     "data": {
      "text/plain": [
       "True"
      ]
     },
     "execution_count": 63,
     "metadata": {},
     "output_type": "execute_result"
    }
   ],
   "source": [
    "even_check(20)"
   ]
  },
  {
   "cell_type": "code",
   "execution_count": 64,
   "id": "9d687fa1",
   "metadata": {},
   "outputs": [
    {
     "data": {
      "text/plain": [
       "False"
      ]
     },
     "execution_count": 64,
     "metadata": {},
     "output_type": "execute_result"
    }
   ],
   "source": [
    "even_check(23)"
   ]
  },
  {
   "cell_type": "code",
   "execution_count": 69,
   "id": "d3f0149a",
   "metadata": {},
   "outputs": [],
   "source": [
    "def even_check_list(num_list):\n",
    "    for num in num_list:\n",
    "        if num %2==0:\n",
    "            return True\n",
    "        else:\n",
    "            pass\n",
    "    return False"
   ]
  },
  {
   "cell_type": "code",
   "execution_count": 70,
   "id": "50faeec8",
   "metadata": {},
   "outputs": [
    {
     "data": {
      "text/plain": [
       "True"
      ]
     },
     "execution_count": 70,
     "metadata": {},
     "output_type": "execute_result"
    }
   ],
   "source": [
    "even_check_list([1,2,3])"
   ]
  },
  {
   "cell_type": "code",
   "execution_count": 73,
   "id": "dccd50a9",
   "metadata": {},
   "outputs": [
    {
     "data": {
      "text/plain": [
       "False"
      ]
     },
     "execution_count": 73,
     "metadata": {},
     "output_type": "execute_result"
    }
   ],
   "source": [
    "even_check_list([3,5,7])"
   ]
  },
  {
   "cell_type": "code",
   "execution_count": 91,
   "id": "f92eea40",
   "metadata": {},
   "outputs": [],
   "source": [
    "def even_check_nums(nums_list):\n",
    "    \n",
    "    even_num=[]\n",
    "    \n",
    "    for num in nums_list:\n",
    "        if num %2==0:\n",
    "            even_num.append(num)\n",
    "        else:\n",
    "            pass\n",
    "    return even_num"
   ]
  },
  {
   "cell_type": "code",
   "execution_count": 92,
   "id": "63506369",
   "metadata": {},
   "outputs": [
    {
     "data": {
      "text/plain": [
       "[2, 4]"
      ]
     },
     "execution_count": 92,
     "metadata": {},
     "output_type": "execute_result"
    }
   ],
   "source": [
    "even_check_nums([1,2,3,4])"
   ]
  },
  {
   "cell_type": "code",
   "execution_count": 95,
   "id": "7bc58079",
   "metadata": {},
   "outputs": [
    {
     "data": {
      "text/plain": [
       "[]"
      ]
     },
     "execution_count": 95,
     "metadata": {},
     "output_type": "execute_result"
    }
   ],
   "source": [
    "even_check_nums([1,3,5,7,9])"
   ]
  },
  {
   "cell_type": "code",
   "execution_count": 96,
   "id": "660ebc3a",
   "metadata": {},
   "outputs": [],
   "source": [
    "mobile_prices=[(\"Samsung\",98000),(\"Apple\",140000),(\"Oneplus\",58000)]"
   ]
  },
  {
   "cell_type": "code",
   "execution_count": 97,
   "id": "c1aaf00e",
   "metadata": {},
   "outputs": [
    {
     "name": "stdout",
     "output_type": "stream",
     "text": [
      "('Samsung', 98000)\n",
      "('Apple', 140000)\n",
      "('Oneplus', 58000)\n"
     ]
    }
   ],
   "source": [
    "for item in mobile_prices:\n",
    "    print(item)"
   ]
  },
  {
   "cell_type": "code",
   "execution_count": 103,
   "id": "c7844309",
   "metadata": {},
   "outputs": [
    {
     "name": "stdout",
     "output_type": "stream",
     "text": [
      "Samsung------> 98000\n",
      "Apple------> 140000\n",
      "Oneplus------> 58000\n"
     ]
    }
   ],
   "source": [
    "for mobile,price in mobile_prices:\n",
    "    print(mobile+\"------>\",price)"
   ]
  },
  {
   "cell_type": "code",
   "execution_count": 19,
   "id": "2c696ec2",
   "metadata": {},
   "outputs": [],
   "source": [
    "work_hours=[(\"Abby\",1000),(\"Billy\",4000),(\"Cassie\",800)]"
   ]
  },
  {
   "cell_type": "code",
   "execution_count": 20,
   "id": "08c6280b",
   "metadata": {},
   "outputs": [],
   "source": [
    "def employee_check(work_hours):\n",
    "    \n",
    "    current_max=0\n",
    "    employee_of_month=''\n",
    "    \n",
    "    for employee,hours in work_hours:\n",
    "        if hours > current_max:\n",
    "            current_max=hours\n",
    "            employee_of_month=employee\n",
    "        else:\n",
    "            pass\n",
    "        \n",
    "    return (employee_of_month,current_max)"
   ]
  },
  {
   "cell_type": "code",
   "execution_count": 21,
   "id": "9a67b2de",
   "metadata": {},
   "outputs": [
    {
     "data": {
      "text/plain": [
       "('Billy', 4000)"
      ]
     },
     "execution_count": 21,
     "metadata": {},
     "output_type": "execute_result"
    }
   ],
   "source": [
    "employee_check(work_hours)"
   ]
  },
  {
   "cell_type": "code",
   "execution_count": 22,
   "id": "4be08cd1",
   "metadata": {},
   "outputs": [],
   "source": [
    "example=[1,2,3,4,5,6,7]"
   ]
  },
  {
   "cell_type": "code",
   "execution_count": 23,
   "id": "1f80ba2a",
   "metadata": {},
   "outputs": [],
   "source": [
    "from random import shuffle"
   ]
  },
  {
   "cell_type": "code",
   "execution_count": 24,
   "id": "47a97225",
   "metadata": {},
   "outputs": [],
   "source": [
    "shuffle(example)"
   ]
  },
  {
   "cell_type": "code",
   "execution_count": 25,
   "id": "b8a46f42",
   "metadata": {},
   "outputs": [
    {
     "data": {
      "text/plain": [
       "[7, 4, 2, 6, 1, 3, 5]"
      ]
     },
     "execution_count": 25,
     "metadata": {},
     "output_type": "execute_result"
    }
   ],
   "source": [
    "example"
   ]
  },
  {
   "cell_type": "code",
   "execution_count": 26,
   "id": "9c964e28",
   "metadata": {},
   "outputs": [],
   "source": [
    "def shuffle_list(example):\n",
    "    shuffle(example)\n",
    "    return example"
   ]
  },
  {
   "cell_type": "code",
   "execution_count": 27,
   "id": "dcdf5bb3",
   "metadata": {},
   "outputs": [],
   "source": [
    "res=shuffle_list(example)"
   ]
  },
  {
   "cell_type": "code",
   "execution_count": 28,
   "id": "4ec146af",
   "metadata": {},
   "outputs": [
    {
     "data": {
      "text/plain": [
       "[7, 6, 2, 5, 4, 3, 1]"
      ]
     },
     "execution_count": 28,
     "metadata": {},
     "output_type": "execute_result"
    }
   ],
   "source": [
    "res"
   ]
  },
  {
   "cell_type": "code",
   "execution_count": 29,
   "id": "648623f1",
   "metadata": {},
   "outputs": [],
   "source": [
    "#Game Development"
   ]
  },
  {
   "cell_type": "code",
   "execution_count": 30,
   "id": "b28d6695",
   "metadata": {},
   "outputs": [],
   "source": [
    "mylist=['','O','']"
   ]
  },
  {
   "cell_type": "code",
   "execution_count": 31,
   "id": "59d8fe59",
   "metadata": {},
   "outputs": [
    {
     "data": {
      "text/plain": [
       "['', 'O', '']"
      ]
     },
     "execution_count": 31,
     "metadata": {},
     "output_type": "execute_result"
    }
   ],
   "source": [
    "mylist"
   ]
  },
  {
   "cell_type": "code",
   "execution_count": 32,
   "id": "dde3b002",
   "metadata": {},
   "outputs": [],
   "source": [
    "shuffle(mylist)"
   ]
  },
  {
   "cell_type": "code",
   "execution_count": 33,
   "id": "0c8955c5",
   "metadata": {},
   "outputs": [
    {
     "data": {
      "text/plain": [
       "['', '', 'O']"
      ]
     },
     "execution_count": 33,
     "metadata": {},
     "output_type": "execute_result"
    }
   ],
   "source": [
    "mylist"
   ]
  },
  {
   "cell_type": "code",
   "execution_count": 34,
   "id": "a51c75ee",
   "metadata": {},
   "outputs": [],
   "source": [
    "def player_guess():\n",
    "    \n",
    "    guess=''\n",
    "    while guess not in ['0','1','2']:\n",
    "        guess=input(\"Pick a number: 0,1,2 \")\n",
    "        \n",
    "    return int(guess)"
   ]
  },
  {
   "cell_type": "code",
   "execution_count": 35,
   "id": "6763c8d2",
   "metadata": {},
   "outputs": [
    {
     "name": "stdout",
     "output_type": "stream",
     "text": [
      "Pick a number: 0,1,2 \n",
      "Pick a number: 0,1,2 \n",
      "Pick a number: 0,1,2 \n",
      "Pick a number: 0,1,2 \n",
      "Pick a number: 0,1,2 \n",
      "Pick a number: 0,1,2 \n",
      "Pick a number: 0,1,2 1\n"
     ]
    }
   ],
   "source": [
    "index=player_guess()"
   ]
  },
  {
   "cell_type": "code",
   "execution_count": 36,
   "id": "3f199201",
   "metadata": {},
   "outputs": [
    {
     "data": {
      "text/plain": [
       "1"
      ]
     },
     "execution_count": 36,
     "metadata": {},
     "output_type": "execute_result"
    }
   ],
   "source": [
    "index"
   ]
  },
  {
   "cell_type": "code",
   "execution_count": 37,
   "id": "6f1f413a",
   "metadata": {},
   "outputs": [],
   "source": [
    "def check_guess(mylist,guess):\n",
    "    if mylist[guess]=='O':\n",
    "        print(\"Correct!\")\n",
    "    else:\n",
    "        print(\"Wrong\")\n",
    "        print(mylist)"
   ]
  },
  {
   "cell_type": "code",
   "execution_count": 38,
   "id": "f422892a",
   "metadata": {},
   "outputs": [
    {
     "name": "stdout",
     "output_type": "stream",
     "text": [
      "Pick a number: 0,1,2 2\n",
      "Correct!\n"
     ]
    }
   ],
   "source": [
    "# Initial List\n",
    "mylist=['','O','']\n",
    "# Shuffle List\n",
    "mixedup_list=shuffle_list(mylist)\n",
    "# User Guess\n",
    "guess=player_guess()\n",
    "# Check Guess\n",
    "check_guess(mixedup_list,guess)"
   ]
  },
  {
   "cell_type": "code",
   "execution_count": 43,
   "id": "d60d8be9",
   "metadata": {},
   "outputs": [],
   "source": [
    "def argsfunc(*args):\n",
    "    print(args)"
   ]
  },
  {
   "cell_type": "code",
   "execution_count": 45,
   "id": "1e804264",
   "metadata": {},
   "outputs": [
    {
     "name": "stdout",
     "output_type": "stream",
     "text": [
      "(40, 20, 30, 40)\n"
     ]
    }
   ],
   "source": [
    "argsfunc(40,20,30,40)"
   ]
  },
  {
   "cell_type": "code",
   "execution_count": 52,
   "id": "a7fbfcfd",
   "metadata": {},
   "outputs": [],
   "source": [
    "def argsfunction(*args):\n",
    "    for arg in args:\n",
    "        print(arg)"
   ]
  },
  {
   "cell_type": "code",
   "execution_count": 53,
   "id": "b40fa985",
   "metadata": {},
   "outputs": [
    {
     "name": "stdout",
     "output_type": "stream",
     "text": [
      "Hi\n",
      "Hello\n",
      "Bye\n"
     ]
    }
   ],
   "source": [
    "argsfunction(\"Hi\",\"Hello\",\"Bye\")"
   ]
  },
  {
   "cell_type": "code",
   "execution_count": 78,
   "id": "25aac5db",
   "metadata": {},
   "outputs": [],
   "source": [
    "def kargsfunc(**kargs):\n",
    "    print(kargs.values())"
   ]
  },
  {
   "cell_type": "code",
   "execution_count": 79,
   "id": "04b29275",
   "metadata": {},
   "outputs": [
    {
     "name": "stdout",
     "output_type": "stream",
     "text": [
      "dict_values(['Nikil', 24, 6.0, 'fair'])\n"
     ]
    }
   ],
   "source": [
    "kargsfunc(name=\"Nikil\",age=24,height=6.0,color=\"fair\")"
   ]
  },
  {
   "cell_type": "code",
   "execution_count": 110,
   "id": "36fa5c92",
   "metadata": {},
   "outputs": [],
   "source": [
    "def myfunction(*args,**kwargs):\n",
    "    print(args)\n",
    "    print(kwargs)\n",
    "    print(\"I would like to eat {} {}\".format(args[0],kwargs['veg']))"
   ]
  },
  {
   "cell_type": "code",
   "execution_count": 111,
   "id": "88a46d4b",
   "metadata": {},
   "outputs": [
    {
     "name": "stdout",
     "output_type": "stream",
     "text": [
      "(10, 20, 30)\n",
      "{'fruit': 'Apple', 'veg': 'carrot', 'animal': 'chicken'}\n",
      "I would like to eat 10 carrot\n"
     ]
    }
   ],
   "source": [
    "myfunction(10,20,30,fruit=\"Apple\",veg=\"carrot\",animal=\"chicken\")"
   ]
  },
  {
   "cell_type": "code",
   "execution_count": 378,
   "id": "0109a540",
   "metadata": {},
   "outputs": [],
   "source": [
    "def myfunc(word):\n",
    "    res=\"\"\n",
    "    index=0\n",
    "    for letter in word:\n",
    "        if index%2==0:\n",
    "            res=res+letter.upper()\n",
    "        else:\n",
    "            res=res+letter.lower()\n",
    "        index=index+1\n",
    "    return res\n",
    "    "
   ]
  },
  {
   "cell_type": "code",
   "execution_count": 379,
   "id": "57e80e9c",
   "metadata": {},
   "outputs": [
    {
     "data": {
      "text/plain": [
       "'VaLuSaNiKiL'"
      ]
     },
     "execution_count": 379,
     "metadata": {},
     "output_type": "execute_result"
    }
   ],
   "source": [
    "myfunc(\"valusanikil\")"
   ]
  },
  {
   "cell_type": "code",
   "execution_count": null,
   "id": "3c8a336d",
   "metadata": {},
   "outputs": [],
   "source": []
  },
  {
   "cell_type": "code",
   "execution_count": null,
   "id": "c34d605c",
   "metadata": {},
   "outputs": [],
   "source": []
  }
 ],
 "metadata": {
  "kernelspec": {
   "display_name": "Python 3 (ipykernel)",
   "language": "python",
   "name": "python3"
  },
  "language_info": {
   "codemirror_mode": {
    "name": "ipython",
    "version": 3
   },
   "file_extension": ".py",
   "mimetype": "text/x-python",
   "name": "python",
   "nbconvert_exporter": "python",
   "pygments_lexer": "ipython3",
   "version": "3.10.9"
  }
 },
 "nbformat": 4,
 "nbformat_minor": 5
}
