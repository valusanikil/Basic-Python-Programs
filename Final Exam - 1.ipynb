{
 "cells": [
  {
   "cell_type": "code",
   "execution_count": 24,
   "id": "34ea6035",
   "metadata": {},
   "outputs": [],
   "source": [
    "import numpy as np\n",
    "import pandas as pd\n",
    "import matplotlib as plt"
   ]
  },
  {
   "cell_type": "code",
   "execution_count": 2,
   "id": "ff8d78b8",
   "metadata": {},
   "outputs": [],
   "source": [
    "df = pd.read_csv(\"https://raw.githubusercontent.com/prof-tcsmith/data_repo/master/660920411.csv\")"
   ]
  },
  {
   "cell_type": "code",
   "execution_count": 10,
   "id": "4d06b40b",
   "metadata": {},
   "outputs": [
    {
     "data": {
      "text/html": [
       "<div>\n",
       "<style scoped>\n",
       "    .dataframe tbody tr th:only-of-type {\n",
       "        vertical-align: middle;\n",
       "    }\n",
       "\n",
       "    .dataframe tbody tr th {\n",
       "        vertical-align: top;\n",
       "    }\n",
       "\n",
       "    .dataframe thead th {\n",
       "        text-align: right;\n",
       "    }\n",
       "</style>\n",
       "<table border=\"1\" class=\"dataframe\">\n",
       "  <thead>\n",
       "    <tr style=\"text-align: right;\">\n",
       "      <th></th>\n",
       "      <th>X1</th>\n",
       "      <th>X2</th>\n",
       "      <th>X3</th>\n",
       "      <th>X4</th>\n",
       "      <th>Y</th>\n",
       "    </tr>\n",
       "  </thead>\n",
       "  <tbody>\n",
       "    <tr>\n",
       "      <th>0</th>\n",
       "      <td>9.914035</td>\n",
       "      <td>5.998939</td>\n",
       "      <td>13698.6531</td>\n",
       "      <td>-2152.1342</td>\n",
       "      <td>11706.34</td>\n",
       "    </tr>\n",
       "    <tr>\n",
       "      <th>1</th>\n",
       "      <td>10.033271</td>\n",
       "      <td>5.997209</td>\n",
       "      <td>10126.1947</td>\n",
       "      <td>-2076.9239</td>\n",
       "      <td>8123.67</td>\n",
       "    </tr>\n",
       "    <tr>\n",
       "      <th>2</th>\n",
       "      <td>NaN</td>\n",
       "      <td>5.999991</td>\n",
       "      <td>9471.5393</td>\n",
       "      <td>-2092.2243</td>\n",
       "      <td>7431.68</td>\n",
       "    </tr>\n",
       "    <tr>\n",
       "      <th>3</th>\n",
       "      <td>9.998073</td>\n",
       "      <td>5.994168</td>\n",
       "      <td>14476.9058</td>\n",
       "      <td>-1884.7939</td>\n",
       "      <td>12496.47</td>\n",
       "    </tr>\n",
       "    <tr>\n",
       "      <th>4</th>\n",
       "      <td>9.869646</td>\n",
       "      <td>5.990580</td>\n",
       "      <td>8206.4659</td>\n",
       "      <td>-2327.1395</td>\n",
       "      <td>5785.47</td>\n",
       "    </tr>\n",
       "    <tr>\n",
       "      <th>...</th>\n",
       "      <td>...</td>\n",
       "      <td>...</td>\n",
       "      <td>...</td>\n",
       "      <td>...</td>\n",
       "      <td>...</td>\n",
       "    </tr>\n",
       "    <tr>\n",
       "      <th>2453</th>\n",
       "      <td>9.847819</td>\n",
       "      <td>5.996710</td>\n",
       "      <td>9724.8080</td>\n",
       "      <td>-1982.9469</td>\n",
       "      <td>7762.75</td>\n",
       "    </tr>\n",
       "    <tr>\n",
       "      <th>2454</th>\n",
       "      <td>9.922070</td>\n",
       "      <td>5.998028</td>\n",
       "      <td>11083.4290</td>\n",
       "      <td>NaN</td>\n",
       "      <td>9111.46</td>\n",
       "    </tr>\n",
       "    <tr>\n",
       "      <th>2455</th>\n",
       "      <td>10.035305</td>\n",
       "      <td>5.995905</td>\n",
       "      <td>7922.2543</td>\n",
       "      <td>-2065.4919</td>\n",
       "      <td>5684.33</td>\n",
       "    </tr>\n",
       "    <tr>\n",
       "      <th>2456</th>\n",
       "      <td>10.104343</td>\n",
       "      <td>5.987137</td>\n",
       "      <td>NaN</td>\n",
       "      <td>-2019.9270</td>\n",
       "      <td>8737.72</td>\n",
       "    </tr>\n",
       "    <tr>\n",
       "      <th>2457</th>\n",
       "      <td>10.031330</td>\n",
       "      <td>5.999383</td>\n",
       "      <td>13488.5037</td>\n",
       "      <td>-1806.6586</td>\n",
       "      <td>11686.27</td>\n",
       "    </tr>\n",
       "  </tbody>\n",
       "</table>\n",
       "<p>2458 rows × 5 columns</p>\n",
       "</div>"
      ],
      "text/plain": [
       "             X1        X2          X3         X4         Y\n",
       "0      9.914035  5.998939  13698.6531 -2152.1342  11706.34\n",
       "1     10.033271  5.997209  10126.1947 -2076.9239   8123.67\n",
       "2           NaN  5.999991   9471.5393 -2092.2243   7431.68\n",
       "3      9.998073  5.994168  14476.9058 -1884.7939  12496.47\n",
       "4      9.869646  5.990580   8206.4659 -2327.1395   5785.47\n",
       "...         ...       ...         ...        ...       ...\n",
       "2453   9.847819  5.996710   9724.8080 -1982.9469   7762.75\n",
       "2454   9.922070  5.998028  11083.4290        NaN   9111.46\n",
       "2455  10.035305  5.995905   7922.2543 -2065.4919   5684.33\n",
       "2456  10.104343  5.987137         NaN -2019.9270   8737.72\n",
       "2457  10.031330  5.999383  13488.5037 -1806.6586  11686.27\n",
       "\n",
       "[2458 rows x 5 columns]"
      ]
     },
     "execution_count": 10,
     "metadata": {},
     "output_type": "execute_result"
    }
   ],
   "source": [
    "df"
   ]
  },
  {
   "cell_type": "code",
   "execution_count": 20,
   "id": "c2a41d55",
   "metadata": {},
   "outputs": [
    {
     "data": {
      "text/html": [
       "<div>\n",
       "<style scoped>\n",
       "    .dataframe tbody tr th:only-of-type {\n",
       "        vertical-align: middle;\n",
       "    }\n",
       "\n",
       "    .dataframe tbody tr th {\n",
       "        vertical-align: top;\n",
       "    }\n",
       "\n",
       "    .dataframe thead th {\n",
       "        text-align: right;\n",
       "    }\n",
       "</style>\n",
       "<table border=\"1\" class=\"dataframe\">\n",
       "  <thead>\n",
       "    <tr style=\"text-align: right;\">\n",
       "      <th></th>\n",
       "      <th>X1</th>\n",
       "      <th>X2</th>\n",
       "      <th>X3</th>\n",
       "      <th>X4</th>\n",
       "      <th>Y</th>\n",
       "    </tr>\n",
       "  </thead>\n",
       "  <tbody>\n",
       "    <tr>\n",
       "      <th>count</th>\n",
       "      <td>2177.000000</td>\n",
       "      <td>2186.000000</td>\n",
       "      <td>2195.000000</td>\n",
       "      <td>2195.000000</td>\n",
       "      <td>2160.000000</td>\n",
       "    </tr>\n",
       "    <tr>\n",
       "      <th>mean</th>\n",
       "      <td>9.999180</td>\n",
       "      <td>5.995155</td>\n",
       "      <td>9977.532422</td>\n",
       "      <td>-1979.998653</td>\n",
       "      <td>8027.914819</td>\n",
       "    </tr>\n",
       "    <tr>\n",
       "      <th>std</th>\n",
       "      <td>0.100671</td>\n",
       "      <td>0.006787</td>\n",
       "      <td>2027.208147</td>\n",
       "      <td>200.188337</td>\n",
       "      <td>2047.905498</td>\n",
       "    </tr>\n",
       "    <tr>\n",
       "      <th>min</th>\n",
       "      <td>9.678028</td>\n",
       "      <td>5.914573</td>\n",
       "      <td>4304.024600</td>\n",
       "      <td>-2665.308100</td>\n",
       "      <td>2091.490000</td>\n",
       "    </tr>\n",
       "    <tr>\n",
       "      <th>25%</th>\n",
       "      <td>9.931051</td>\n",
       "      <td>5.993364</td>\n",
       "      <td>8577.663050</td>\n",
       "      <td>-2115.908100</td>\n",
       "      <td>6610.565000</td>\n",
       "    </tr>\n",
       "    <tr>\n",
       "      <th>50%</th>\n",
       "      <td>9.999162</td>\n",
       "      <td>5.997761</td>\n",
       "      <td>9863.980700</td>\n",
       "      <td>-1975.894700</td>\n",
       "      <td>7924.990000</td>\n",
       "    </tr>\n",
       "    <tr>\n",
       "      <th>75%</th>\n",
       "      <td>10.067261</td>\n",
       "      <td>5.999486</td>\n",
       "      <td>11283.100150</td>\n",
       "      <td>-1844.619250</td>\n",
       "      <td>9346.955000</td>\n",
       "    </tr>\n",
       "    <tr>\n",
       "      <th>max</th>\n",
       "      <td>10.353330</td>\n",
       "      <td>6.000000</td>\n",
       "      <td>20121.499700</td>\n",
       "      <td>-1350.601700</td>\n",
       "      <td>17742.360000</td>\n",
       "    </tr>\n",
       "  </tbody>\n",
       "</table>\n",
       "</div>"
      ],
      "text/plain": [
       "                X1           X2            X3           X4             Y\n",
       "count  2177.000000  2186.000000   2195.000000  2195.000000   2160.000000\n",
       "mean      9.999180     5.995155   9977.532422 -1979.998653   8027.914819\n",
       "std       0.100671     0.006787   2027.208147   200.188337   2047.905498\n",
       "min       9.678028     5.914573   4304.024600 -2665.308100   2091.490000\n",
       "25%       9.931051     5.993364   8577.663050 -2115.908100   6610.565000\n",
       "50%       9.999162     5.997761   9863.980700 -1975.894700   7924.990000\n",
       "75%      10.067261     5.999486  11283.100150 -1844.619250   9346.955000\n",
       "max      10.353330     6.000000  20121.499700 -1350.601700  17742.360000"
      ]
     },
     "execution_count": 20,
     "metadata": {},
     "output_type": "execute_result"
    }
   ],
   "source": [
    "df.describe()"
   ]
  },
  {
   "cell_type": "code",
   "execution_count": 5,
   "id": "178cf213",
   "metadata": {},
   "outputs": [
    {
     "name": "stdout",
     "output_type": "stream",
     "text": [
      "<class 'pandas.core.frame.DataFrame'>\n",
      "RangeIndex: 2458 entries, 0 to 2457\n",
      "Data columns (total 5 columns):\n",
      " #   Column  Non-Null Count  Dtype  \n",
      "---  ------  --------------  -----  \n",
      " 0   X1      2177 non-null   float64\n",
      " 1   X2      2186 non-null   float64\n",
      " 2   X3      2195 non-null   float64\n",
      " 3   X4      2195 non-null   float64\n",
      " 4   Y       2160 non-null   float64\n",
      "dtypes: float64(5)\n",
      "memory usage: 96.1 KB\n"
     ]
    }
   ],
   "source": [
    "df.info()"
   ]
  },
  {
   "cell_type": "code",
   "execution_count": 7,
   "id": "44c76abf",
   "metadata": {},
   "outputs": [
    {
     "data": {
      "text/plain": [
       "Index(['X1', 'X2', 'X3', 'X4', 'Y'], dtype='object')"
      ]
     },
     "execution_count": 7,
     "metadata": {},
     "output_type": "execute_result"
    }
   ],
   "source": [
    "df.columns"
   ]
  },
  {
   "cell_type": "code",
   "execution_count": 12,
   "id": "3485cca7",
   "metadata": {},
   "outputs": [
    {
     "name": "stdout",
     "output_type": "stream",
     "text": [
      "<class 'pandas.core.series.Series'>\n",
      "RangeIndex: 2458 entries, 0 to 2457\n",
      "Series name: X1\n",
      "Non-Null Count  Dtype  \n",
      "--------------  -----  \n",
      "2177 non-null   float64\n",
      "dtypes: float64(1)\n",
      "memory usage: 19.3 KB\n"
     ]
    }
   ],
   "source": [
    "df['X1'].info()"
   ]
  },
  {
   "cell_type": "code",
   "execution_count": 14,
   "id": "dab0ff19",
   "metadata": {},
   "outputs": [
    {
     "data": {
      "text/plain": [
       "count    2177.000000\n",
       "mean        9.999180\n",
       "std         0.100671\n",
       "min         9.678028\n",
       "25%         9.931051\n",
       "50%         9.999162\n",
       "75%        10.067261\n",
       "max        10.353330\n",
       "Name: X1, dtype: float64"
      ]
     },
     "execution_count": 14,
     "metadata": {},
     "output_type": "execute_result"
    }
   ],
   "source": [
    "df['X1'].describe()"
   ]
  },
  {
   "cell_type": "code",
   "execution_count": 22,
   "id": "e6c3ab1e",
   "metadata": {},
   "outputs": [
    {
     "data": {
      "text/plain": [
       "count    2186.000000\n",
       "mean        5.995155\n",
       "std         0.006787\n",
       "min         5.914573\n",
       "25%         5.993364\n",
       "50%         5.997761\n",
       "75%         5.999486\n",
       "max         6.000000\n",
       "Name: X2, dtype: float64"
      ]
     },
     "execution_count": 22,
     "metadata": {},
     "output_type": "execute_result"
    }
   ],
   "source": [
    "df['X2'].describe()"
   ]
  },
  {
   "cell_type": "code",
   "execution_count": 23,
   "id": "7a9cd2d8",
   "metadata": {},
   "outputs": [
    {
     "data": {
      "text/plain": [
       "X1    281\n",
       "X2    272\n",
       "X3    263\n",
       "X4    263\n",
       "Y     298\n",
       "dtype: int64"
      ]
     },
     "execution_count": 23,
     "metadata": {},
     "output_type": "execute_result"
    }
   ],
   "source": [
    "df.isnull().sum()"
   ]
  },
  {
   "cell_type": "code",
   "execution_count": 26,
   "id": "aa66435a",
   "metadata": {},
   "outputs": [],
   "source": [
    "Y_after_drop=df['Y'].dropna()"
   ]
  },
  {
   "cell_type": "code",
   "execution_count": 27,
   "id": "e108f577",
   "metadata": {},
   "outputs": [
    {
     "name": "stdout",
     "output_type": "stream",
     "text": [
      "<class 'pandas.core.series.Series'>\n",
      "Int64Index: 2160 entries, 0 to 2457\n",
      "Series name: Y\n",
      "Non-Null Count  Dtype  \n",
      "--------------  -----  \n",
      "2160 non-null   float64\n",
      "dtypes: float64(1)\n",
      "memory usage: 33.8 KB\n"
     ]
    }
   ],
   "source": [
    "Y_after_drop.info()"
   ]
  },
  {
   "cell_type": "code",
   "execution_count": 34,
   "id": "6d89fad4",
   "metadata": {},
   "outputs": [],
   "source": [
    "x1=df['X1'].dropna()\n",
    "x2=df['X2'].dropna()\n",
    "x3=df['X3'].dropna()\n",
    "x4=df['X4'].dropna()\n",
    "y=df['Y'].dropna()"
   ]
  },
  {
   "cell_type": "code",
   "execution_count": 30,
   "id": "5aa61704",
   "metadata": {},
   "outputs": [
    {
     "name": "stdout",
     "output_type": "stream",
     "text": [
      "<class 'pandas.core.series.Series'>\n",
      "Int64Index: 2177 entries, 0 to 2457\n",
      "Series name: X1\n",
      "Non-Null Count  Dtype  \n",
      "--------------  -----  \n",
      "2177 non-null   float64\n",
      "dtypes: float64(1)\n",
      "memory usage: 34.0 KB\n"
     ]
    }
   ],
   "source": [
    "x1.info()"
   ]
  },
  {
   "cell_type": "code",
   "execution_count": 31,
   "id": "2e7c9df7",
   "metadata": {},
   "outputs": [
    {
     "name": "stdout",
     "output_type": "stream",
     "text": [
      "<class 'pandas.core.series.Series'>\n",
      "Int64Index: 2186 entries, 0 to 2457\n",
      "Series name: X2\n",
      "Non-Null Count  Dtype  \n",
      "--------------  -----  \n",
      "2186 non-null   float64\n",
      "dtypes: float64(1)\n",
      "memory usage: 34.2 KB\n"
     ]
    }
   ],
   "source": [
    "x2.info()"
   ]
  },
  {
   "cell_type": "code",
   "execution_count": 32,
   "id": "b2da51f3",
   "metadata": {},
   "outputs": [
    {
     "name": "stdout",
     "output_type": "stream",
     "text": [
      "<class 'pandas.core.series.Series'>\n",
      "Int64Index: 2195 entries, 0 to 2457\n",
      "Series name: X3\n",
      "Non-Null Count  Dtype  \n",
      "--------------  -----  \n",
      "2195 non-null   float64\n",
      "dtypes: float64(1)\n",
      "memory usage: 34.3 KB\n"
     ]
    }
   ],
   "source": [
    "x3.info()"
   ]
  },
  {
   "cell_type": "code",
   "execution_count": 33,
   "id": "cd70cc52",
   "metadata": {},
   "outputs": [
    {
     "name": "stdout",
     "output_type": "stream",
     "text": [
      "<class 'pandas.core.series.Series'>\n",
      "Int64Index: 2195 entries, 0 to 2457\n",
      "Series name: X4\n",
      "Non-Null Count  Dtype  \n",
      "--------------  -----  \n",
      "2195 non-null   float64\n",
      "dtypes: float64(1)\n",
      "memory usage: 34.3 KB\n"
     ]
    }
   ],
   "source": [
    "x4.info()"
   ]
  },
  {
   "cell_type": "code",
   "execution_count": 36,
   "id": "7e9a741f",
   "metadata": {},
   "outputs": [
    {
     "name": "stdout",
     "output_type": "stream",
     "text": [
      "<class 'pandas.core.series.Series'>\n",
      "Int64Index: 2160 entries, 0 to 2457\n",
      "Series name: Y\n",
      "Non-Null Count  Dtype  \n",
      "--------------  -----  \n",
      "2160 non-null   float64\n",
      "dtypes: float64(1)\n",
      "memory usage: 33.8 KB\n"
     ]
    }
   ],
   "source": [
    "y.info()"
   ]
  },
  {
   "cell_type": "code",
   "execution_count": 40,
   "id": "88eeae4f",
   "metadata": {},
   "outputs": [
    {
     "data": {
      "text/html": [
       "<div>\n",
       "<style scoped>\n",
       "    .dataframe tbody tr th:only-of-type {\n",
       "        vertical-align: middle;\n",
       "    }\n",
       "\n",
       "    .dataframe tbody tr th {\n",
       "        vertical-align: top;\n",
       "    }\n",
       "\n",
       "    .dataframe thead th {\n",
       "        text-align: right;\n",
       "    }\n",
       "</style>\n",
       "<table border=\"1\" class=\"dataframe\">\n",
       "  <thead>\n",
       "    <tr style=\"text-align: right;\">\n",
       "      <th></th>\n",
       "      <th>X1</th>\n",
       "      <th>X2</th>\n",
       "      <th>X3</th>\n",
       "      <th>X4</th>\n",
       "      <th>Y</th>\n",
       "    </tr>\n",
       "  </thead>\n",
       "  <tbody>\n",
       "    <tr>\n",
       "      <th>0</th>\n",
       "      <td>9.914035</td>\n",
       "      <td>5.998939</td>\n",
       "      <td>13698.6531</td>\n",
       "      <td>-2152.1342</td>\n",
       "      <td>11706.34</td>\n",
       "    </tr>\n",
       "    <tr>\n",
       "      <th>1</th>\n",
       "      <td>10.033271</td>\n",
       "      <td>5.997209</td>\n",
       "      <td>10126.1947</td>\n",
       "      <td>-2076.9239</td>\n",
       "      <td>8123.67</td>\n",
       "    </tr>\n",
       "    <tr>\n",
       "      <th>3</th>\n",
       "      <td>9.998073</td>\n",
       "      <td>5.994168</td>\n",
       "      <td>14476.9058</td>\n",
       "      <td>-1884.7939</td>\n",
       "      <td>12496.47</td>\n",
       "    </tr>\n",
       "    <tr>\n",
       "      <th>4</th>\n",
       "      <td>9.869646</td>\n",
       "      <td>5.990580</td>\n",
       "      <td>8206.4659</td>\n",
       "      <td>-2327.1395</td>\n",
       "      <td>5785.47</td>\n",
       "    </tr>\n",
       "    <tr>\n",
       "      <th>5</th>\n",
       "      <td>9.921237</td>\n",
       "      <td>5.989397</td>\n",
       "      <td>10837.2486</td>\n",
       "      <td>-1857.5226</td>\n",
       "      <td>9081.10</td>\n",
       "    </tr>\n",
       "    <tr>\n",
       "      <th>...</th>\n",
       "      <td>...</td>\n",
       "      <td>...</td>\n",
       "      <td>...</td>\n",
       "      <td>...</td>\n",
       "      <td>...</td>\n",
       "    </tr>\n",
       "    <tr>\n",
       "      <th>2450</th>\n",
       "      <td>9.928563</td>\n",
       "      <td>5.988500</td>\n",
       "      <td>7671.1155</td>\n",
       "      <td>-2394.2838</td>\n",
       "      <td>5284.98</td>\n",
       "    </tr>\n",
       "    <tr>\n",
       "      <th>2451</th>\n",
       "      <td>10.009444</td>\n",
       "      <td>5.999904</td>\n",
       "      <td>11401.6934</td>\n",
       "      <td>-1813.5977</td>\n",
       "      <td>9668.13</td>\n",
       "    </tr>\n",
       "    <tr>\n",
       "      <th>2453</th>\n",
       "      <td>9.847819</td>\n",
       "      <td>5.996710</td>\n",
       "      <td>9724.8080</td>\n",
       "      <td>-1982.9469</td>\n",
       "      <td>7762.75</td>\n",
       "    </tr>\n",
       "    <tr>\n",
       "      <th>2455</th>\n",
       "      <td>10.035305</td>\n",
       "      <td>5.995905</td>\n",
       "      <td>7922.2543</td>\n",
       "      <td>-2065.4919</td>\n",
       "      <td>5684.33</td>\n",
       "    </tr>\n",
       "    <tr>\n",
       "      <th>2457</th>\n",
       "      <td>10.031330</td>\n",
       "      <td>5.999383</td>\n",
       "      <td>13488.5037</td>\n",
       "      <td>-1806.6586</td>\n",
       "      <td>11686.27</td>\n",
       "    </tr>\n",
       "  </tbody>\n",
       "</table>\n",
       "<p>1507 rows × 5 columns</p>\n",
       "</div>"
      ],
      "text/plain": [
       "             X1        X2          X3         X4         Y\n",
       "0      9.914035  5.998939  13698.6531 -2152.1342  11706.34\n",
       "1     10.033271  5.997209  10126.1947 -2076.9239   8123.67\n",
       "3      9.998073  5.994168  14476.9058 -1884.7939  12496.47\n",
       "4      9.869646  5.990580   8206.4659 -2327.1395   5785.47\n",
       "5      9.921237  5.989397  10837.2486 -1857.5226   9081.10\n",
       "...         ...       ...         ...        ...       ...\n",
       "2450   9.928563  5.988500   7671.1155 -2394.2838   5284.98\n",
       "2451  10.009444  5.999904  11401.6934 -1813.5977   9668.13\n",
       "2453   9.847819  5.996710   9724.8080 -1982.9469   7762.75\n",
       "2455  10.035305  5.995905   7922.2543 -2065.4919   5684.33\n",
       "2457  10.031330  5.999383  13488.5037 -1806.6586  11686.27\n",
       "\n",
       "[1507 rows x 5 columns]"
      ]
     },
     "execution_count": 40,
     "metadata": {},
     "output_type": "execute_result"
    }
   ],
   "source": [
    "df.dropna()"
   ]
  },
  {
   "cell_type": "code",
   "execution_count": 39,
   "id": "fc8c6f83",
   "metadata": {},
   "outputs": [
    {
     "name": "stdout",
     "output_type": "stream",
     "text": [
      "<class 'pandas.core.frame.DataFrame'>\n",
      "RangeIndex: 2458 entries, 0 to 2457\n",
      "Data columns (total 5 columns):\n",
      " #   Column  Non-Null Count  Dtype  \n",
      "---  ------  --------------  -----  \n",
      " 0   X1      2177 non-null   float64\n",
      " 1   X2      2186 non-null   float64\n",
      " 2   X3      2195 non-null   float64\n",
      " 3   X4      2195 non-null   float64\n",
      " 4   Y       2160 non-null   float64\n",
      "dtypes: float64(5)\n",
      "memory usage: 96.1 KB\n"
     ]
    }
   ],
   "source": [
    "df.info()"
   ]
  },
  {
   "cell_type": "code",
   "execution_count": 48,
   "id": "fb7c3872",
   "metadata": {},
   "outputs": [
    {
     "data": {
      "text/html": [
       "<div>\n",
       "<style scoped>\n",
       "    .dataframe tbody tr th:only-of-type {\n",
       "        vertical-align: middle;\n",
       "    }\n",
       "\n",
       "    .dataframe tbody tr th {\n",
       "        vertical-align: top;\n",
       "    }\n",
       "\n",
       "    .dataframe thead th {\n",
       "        text-align: right;\n",
       "    }\n",
       "</style>\n",
       "<table border=\"1\" class=\"dataframe\">\n",
       "  <thead>\n",
       "    <tr style=\"text-align: right;\">\n",
       "      <th></th>\n",
       "      <th>X1</th>\n",
       "      <th>X2</th>\n",
       "      <th>X3</th>\n",
       "      <th>X4</th>\n",
       "      <th>Y</th>\n",
       "    </tr>\n",
       "  </thead>\n",
       "  <tbody>\n",
       "    <tr>\n",
       "      <th>0</th>\n",
       "      <td>9.914035</td>\n",
       "      <td>5.998939</td>\n",
       "      <td>13698.6531</td>\n",
       "      <td>-2152.1342</td>\n",
       "      <td>11706.34</td>\n",
       "    </tr>\n",
       "    <tr>\n",
       "      <th>1</th>\n",
       "      <td>10.033271</td>\n",
       "      <td>5.997209</td>\n",
       "      <td>10126.1947</td>\n",
       "      <td>-2076.9239</td>\n",
       "      <td>8123.67</td>\n",
       "    </tr>\n",
       "    <tr>\n",
       "      <th>2</th>\n",
       "      <td>NaN</td>\n",
       "      <td>5.999991</td>\n",
       "      <td>9471.5393</td>\n",
       "      <td>-2092.2243</td>\n",
       "      <td>7431.68</td>\n",
       "    </tr>\n",
       "    <tr>\n",
       "      <th>3</th>\n",
       "      <td>9.998073</td>\n",
       "      <td>5.994168</td>\n",
       "      <td>14476.9058</td>\n",
       "      <td>-1884.7939</td>\n",
       "      <td>12496.47</td>\n",
       "    </tr>\n",
       "    <tr>\n",
       "      <th>4</th>\n",
       "      <td>9.869646</td>\n",
       "      <td>5.990580</td>\n",
       "      <td>8206.4659</td>\n",
       "      <td>-2327.1395</td>\n",
       "      <td>5785.47</td>\n",
       "    </tr>\n",
       "    <tr>\n",
       "      <th>...</th>\n",
       "      <td>...</td>\n",
       "      <td>...</td>\n",
       "      <td>...</td>\n",
       "      <td>...</td>\n",
       "      <td>...</td>\n",
       "    </tr>\n",
       "    <tr>\n",
       "      <th>2453</th>\n",
       "      <td>9.847819</td>\n",
       "      <td>5.996710</td>\n",
       "      <td>9724.8080</td>\n",
       "      <td>-1982.9469</td>\n",
       "      <td>7762.75</td>\n",
       "    </tr>\n",
       "    <tr>\n",
       "      <th>2454</th>\n",
       "      <td>9.922070</td>\n",
       "      <td>5.998028</td>\n",
       "      <td>11083.4290</td>\n",
       "      <td>NaN</td>\n",
       "      <td>9111.46</td>\n",
       "    </tr>\n",
       "    <tr>\n",
       "      <th>2455</th>\n",
       "      <td>10.035305</td>\n",
       "      <td>5.995905</td>\n",
       "      <td>7922.2543</td>\n",
       "      <td>-2065.4919</td>\n",
       "      <td>5684.33</td>\n",
       "    </tr>\n",
       "    <tr>\n",
       "      <th>2456</th>\n",
       "      <td>10.104343</td>\n",
       "      <td>5.987137</td>\n",
       "      <td>NaN</td>\n",
       "      <td>-2019.9270</td>\n",
       "      <td>8737.72</td>\n",
       "    </tr>\n",
       "    <tr>\n",
       "      <th>2457</th>\n",
       "      <td>10.031330</td>\n",
       "      <td>5.999383</td>\n",
       "      <td>13488.5037</td>\n",
       "      <td>-1806.6586</td>\n",
       "      <td>11686.27</td>\n",
       "    </tr>\n",
       "  </tbody>\n",
       "</table>\n",
       "<p>2458 rows × 5 columns</p>\n",
       "</div>"
      ],
      "text/plain": [
       "             X1        X2          X3         X4         Y\n",
       "0      9.914035  5.998939  13698.6531 -2152.1342  11706.34\n",
       "1     10.033271  5.997209  10126.1947 -2076.9239   8123.67\n",
       "2           NaN  5.999991   9471.5393 -2092.2243   7431.68\n",
       "3      9.998073  5.994168  14476.9058 -1884.7939  12496.47\n",
       "4      9.869646  5.990580   8206.4659 -2327.1395   5785.47\n",
       "...         ...       ...         ...        ...       ...\n",
       "2453   9.847819  5.996710   9724.8080 -1982.9469   7762.75\n",
       "2454   9.922070  5.998028  11083.4290        NaN   9111.46\n",
       "2455  10.035305  5.995905   7922.2543 -2065.4919   5684.33\n",
       "2456  10.104343  5.987137         NaN -2019.9270   8737.72\n",
       "2457  10.031330  5.999383  13488.5037 -1806.6586  11686.27\n",
       "\n",
       "[2458 rows x 5 columns]"
      ]
     },
     "execution_count": 48,
     "metadata": {},
     "output_type": "execute_result"
    }
   ],
   "source": [
    "df.replace(0,'NaN')"
   ]
  },
  {
   "cell_type": "code",
   "execution_count": 49,
   "id": "672a8c8d",
   "metadata": {},
   "outputs": [],
   "source": [
    "from sklearn.model_selection import train_test_split"
   ]
  },
  {
   "cell_type": "code",
   "execution_count": 54,
   "id": "387203a4",
   "metadata": {},
   "outputs": [],
   "source": [
    "X2_train,X2_test=train_test_split(df['X2'],test_size=0.2,random_state=1)"
   ]
  },
  {
   "cell_type": "code",
   "execution_count": 55,
   "id": "e3b96f21",
   "metadata": {},
   "outputs": [
    {
     "data": {
      "text/plain": [
       "1268    5.998795\n",
       "2269    5.993482\n",
       "1617    5.991795\n",
       "499     5.983469\n",
       "535     5.999547\n",
       "          ...   \n",
       "1384    5.997259\n",
       "1655    5.998893\n",
       "572     5.997760\n",
       "893     5.985312\n",
       "2203    5.992545\n",
       "Name: X2, Length: 492, dtype: float64"
      ]
     },
     "execution_count": 55,
     "metadata": {},
     "output_type": "execute_result"
    }
   ],
   "source": []
  },
  {
   "cell_type": "code",
   "execution_count": 56,
   "id": "1f112af7",
   "metadata": {},
   "outputs": [],
   "source": [
    "X2_train,X2_test=train_test_split(df,test_size=0.3,random_state=1)"
   ]
  },
  {
   "cell_type": "code",
   "execution_count": 62,
   "id": "5283b1d0",
   "metadata": {},
   "outputs": [
    {
     "data": {
      "text/html": [
       "<div>\n",
       "<style scoped>\n",
       "    .dataframe tbody tr th:only-of-type {\n",
       "        vertical-align: middle;\n",
       "    }\n",
       "\n",
       "    .dataframe tbody tr th {\n",
       "        vertical-align: top;\n",
       "    }\n",
       "\n",
       "    .dataframe thead th {\n",
       "        text-align: right;\n",
       "    }\n",
       "</style>\n",
       "<table border=\"1\" class=\"dataframe\">\n",
       "  <thead>\n",
       "    <tr style=\"text-align: right;\">\n",
       "      <th></th>\n",
       "      <th>X1</th>\n",
       "      <th>X2</th>\n",
       "      <th>X3</th>\n",
       "      <th>X4</th>\n",
       "      <th>Y</th>\n",
       "    </tr>\n",
       "  </thead>\n",
       "  <tbody>\n",
       "    <tr>\n",
       "      <th>count</th>\n",
       "      <td>641.000000</td>\n",
       "      <td>638.000000</td>\n",
       "      <td>648.000000</td>\n",
       "      <td>655.000000</td>\n",
       "      <td>634.000000</td>\n",
       "    </tr>\n",
       "    <tr>\n",
       "      <th>mean</th>\n",
       "      <td>9.995932</td>\n",
       "      <td>5.995107</td>\n",
       "      <td>10087.604822</td>\n",
       "      <td>-1980.865189</td>\n",
       "      <td>8129.502918</td>\n",
       "    </tr>\n",
       "    <tr>\n",
       "      <th>std</th>\n",
       "      <td>0.101933</td>\n",
       "      <td>0.006881</td>\n",
       "      <td>2064.907433</td>\n",
       "      <td>201.773172</td>\n",
       "      <td>2067.257912</td>\n",
       "    </tr>\n",
       "    <tr>\n",
       "      <th>min</th>\n",
       "      <td>9.678028</td>\n",
       "      <td>5.953098</td>\n",
       "      <td>5061.006100</td>\n",
       "      <td>-2567.889800</td>\n",
       "      <td>2905.070000</td>\n",
       "    </tr>\n",
       "    <tr>\n",
       "      <th>25%</th>\n",
       "      <td>9.925910</td>\n",
       "      <td>5.993385</td>\n",
       "      <td>8683.775425</td>\n",
       "      <td>-2110.212400</td>\n",
       "      <td>6705.657500</td>\n",
       "    </tr>\n",
       "    <tr>\n",
       "      <th>50%</th>\n",
       "      <td>9.994136</td>\n",
       "      <td>5.997737</td>\n",
       "      <td>9974.487000</td>\n",
       "      <td>-1981.919700</td>\n",
       "      <td>7959.455000</td>\n",
       "    </tr>\n",
       "    <tr>\n",
       "      <th>75%</th>\n",
       "      <td>10.063929</td>\n",
       "      <td>5.999466</td>\n",
       "      <td>11383.643100</td>\n",
       "      <td>-1850.637700</td>\n",
       "      <td>9480.870000</td>\n",
       "    </tr>\n",
       "    <tr>\n",
       "      <th>max</th>\n",
       "      <td>10.311294</td>\n",
       "      <td>6.000000</td>\n",
       "      <td>16441.105800</td>\n",
       "      <td>-1350.601700</td>\n",
       "      <td>14451.650000</td>\n",
       "    </tr>\n",
       "  </tbody>\n",
       "</table>\n",
       "</div>"
      ],
      "text/plain": [
       "               X1          X2            X3           X4             Y\n",
       "count  641.000000  638.000000    648.000000   655.000000    634.000000\n",
       "mean     9.995932    5.995107  10087.604822 -1980.865189   8129.502918\n",
       "std      0.101933    0.006881   2064.907433   201.773172   2067.257912\n",
       "min      9.678028    5.953098   5061.006100 -2567.889800   2905.070000\n",
       "25%      9.925910    5.993385   8683.775425 -2110.212400   6705.657500\n",
       "50%      9.994136    5.997737   9974.487000 -1981.919700   7959.455000\n",
       "75%     10.063929    5.999466  11383.643100 -1850.637700   9480.870000\n",
       "max     10.311294    6.000000  16441.105800 -1350.601700  14451.650000"
      ]
     },
     "execution_count": 62,
     "metadata": {},
     "output_type": "execute_result"
    }
   ],
   "source": [
    "X2_test.describe()"
   ]
  },
  {
   "cell_type": "code",
   "execution_count": 63,
   "id": "90c923f8",
   "metadata": {},
   "outputs": [
    {
     "data": {
      "text/html": [
       "<div>\n",
       "<style scoped>\n",
       "    .dataframe tbody tr th:only-of-type {\n",
       "        vertical-align: middle;\n",
       "    }\n",
       "\n",
       "    .dataframe tbody tr th {\n",
       "        vertical-align: top;\n",
       "    }\n",
       "\n",
       "    .dataframe thead th {\n",
       "        text-align: right;\n",
       "    }\n",
       "</style>\n",
       "<table border=\"1\" class=\"dataframe\">\n",
       "  <thead>\n",
       "    <tr style=\"text-align: right;\">\n",
       "      <th></th>\n",
       "      <th>X1</th>\n",
       "      <th>X2</th>\n",
       "      <th>X3</th>\n",
       "      <th>X4</th>\n",
       "      <th>Y</th>\n",
       "    </tr>\n",
       "  </thead>\n",
       "  <tbody>\n",
       "    <tr>\n",
       "      <th>count</th>\n",
       "      <td>1536.000000</td>\n",
       "      <td>1548.000000</td>\n",
       "      <td>1547.000000</td>\n",
       "      <td>1540.000000</td>\n",
       "      <td>1526.000000</td>\n",
       "    </tr>\n",
       "    <tr>\n",
       "      <th>mean</th>\n",
       "      <td>10.000535</td>\n",
       "      <td>5.995175</td>\n",
       "      <td>9931.425818</td>\n",
       "      <td>-1979.630094</td>\n",
       "      <td>7985.708493</td>\n",
       "    </tr>\n",
       "    <tr>\n",
       "      <th>std</th>\n",
       "      <td>0.100143</td>\n",
       "      <td>0.006749</td>\n",
       "      <td>2010.090471</td>\n",
       "      <td>199.575155</td>\n",
       "      <td>2039.004067</td>\n",
       "    </tr>\n",
       "    <tr>\n",
       "      <th>min</th>\n",
       "      <td>9.730586</td>\n",
       "      <td>5.914573</td>\n",
       "      <td>4304.024600</td>\n",
       "      <td>-2665.308100</td>\n",
       "      <td>2091.490000</td>\n",
       "    </tr>\n",
       "    <tr>\n",
       "      <th>25%</th>\n",
       "      <td>9.932508</td>\n",
       "      <td>5.993354</td>\n",
       "      <td>8526.560300</td>\n",
       "      <td>-2116.425350</td>\n",
       "      <td>6564.527500</td>\n",
       "    </tr>\n",
       "    <tr>\n",
       "      <th>50%</th>\n",
       "      <td>10.000442</td>\n",
       "      <td>5.997768</td>\n",
       "      <td>9852.008300</td>\n",
       "      <td>-1973.881700</td>\n",
       "      <td>7920.450000</td>\n",
       "    </tr>\n",
       "    <tr>\n",
       "      <th>75%</th>\n",
       "      <td>10.068875</td>\n",
       "      <td>5.999498</td>\n",
       "      <td>11219.450000</td>\n",
       "      <td>-1842.849525</td>\n",
       "      <td>9326.847500</td>\n",
       "    </tr>\n",
       "    <tr>\n",
       "      <th>max</th>\n",
       "      <td>10.353330</td>\n",
       "      <td>6.000000</td>\n",
       "      <td>20121.499700</td>\n",
       "      <td>-1376.897300</td>\n",
       "      <td>17742.360000</td>\n",
       "    </tr>\n",
       "  </tbody>\n",
       "</table>\n",
       "</div>"
      ],
      "text/plain": [
       "                X1           X2            X3           X4             Y\n",
       "count  1536.000000  1548.000000   1547.000000  1540.000000   1526.000000\n",
       "mean     10.000535     5.995175   9931.425818 -1979.630094   7985.708493\n",
       "std       0.100143     0.006749   2010.090471   199.575155   2039.004067\n",
       "min       9.730586     5.914573   4304.024600 -2665.308100   2091.490000\n",
       "25%       9.932508     5.993354   8526.560300 -2116.425350   6564.527500\n",
       "50%      10.000442     5.997768   9852.008300 -1973.881700   7920.450000\n",
       "75%      10.068875     5.999498  11219.450000 -1842.849525   9326.847500\n",
       "max      10.353330     6.000000  20121.499700 -1376.897300  17742.360000"
      ]
     },
     "execution_count": 63,
     "metadata": {},
     "output_type": "execute_result"
    }
   ],
   "source": [
    "X2_train.describe()"
   ]
  },
  {
   "cell_type": "code",
   "execution_count": 61,
   "id": "4d100d67",
   "metadata": {},
   "outputs": [
    {
     "data": {
      "text/html": [
       "<div>\n",
       "<style scoped>\n",
       "    .dataframe tbody tr th:only-of-type {\n",
       "        vertical-align: middle;\n",
       "    }\n",
       "\n",
       "    .dataframe tbody tr th {\n",
       "        vertical-align: top;\n",
       "    }\n",
       "\n",
       "    .dataframe thead th {\n",
       "        text-align: right;\n",
       "    }\n",
       "</style>\n",
       "<table border=\"1\" class=\"dataframe\">\n",
       "  <thead>\n",
       "    <tr style=\"text-align: right;\">\n",
       "      <th></th>\n",
       "      <th>X1</th>\n",
       "      <th>X2</th>\n",
       "      <th>X3</th>\n",
       "      <th>X4</th>\n",
       "      <th>Y</th>\n",
       "    </tr>\n",
       "  </thead>\n",
       "  <tbody>\n",
       "    <tr>\n",
       "      <th>count</th>\n",
       "      <td>2177.000000</td>\n",
       "      <td>2186.000000</td>\n",
       "      <td>2195.000000</td>\n",
       "      <td>2195.000000</td>\n",
       "      <td>2160.000000</td>\n",
       "    </tr>\n",
       "    <tr>\n",
       "      <th>mean</th>\n",
       "      <td>9.999180</td>\n",
       "      <td>5.995155</td>\n",
       "      <td>9977.532422</td>\n",
       "      <td>-1979.998653</td>\n",
       "      <td>8027.914819</td>\n",
       "    </tr>\n",
       "    <tr>\n",
       "      <th>std</th>\n",
       "      <td>0.100671</td>\n",
       "      <td>0.006787</td>\n",
       "      <td>2027.208147</td>\n",
       "      <td>200.188337</td>\n",
       "      <td>2047.905498</td>\n",
       "    </tr>\n",
       "    <tr>\n",
       "      <th>min</th>\n",
       "      <td>9.678028</td>\n",
       "      <td>5.914573</td>\n",
       "      <td>4304.024600</td>\n",
       "      <td>-2665.308100</td>\n",
       "      <td>2091.490000</td>\n",
       "    </tr>\n",
       "    <tr>\n",
       "      <th>25%</th>\n",
       "      <td>9.931051</td>\n",
       "      <td>5.993364</td>\n",
       "      <td>8577.663050</td>\n",
       "      <td>-2115.908100</td>\n",
       "      <td>6610.565000</td>\n",
       "    </tr>\n",
       "    <tr>\n",
       "      <th>50%</th>\n",
       "      <td>9.999162</td>\n",
       "      <td>5.997761</td>\n",
       "      <td>9863.980700</td>\n",
       "      <td>-1975.894700</td>\n",
       "      <td>7924.990000</td>\n",
       "    </tr>\n",
       "    <tr>\n",
       "      <th>75%</th>\n",
       "      <td>10.067261</td>\n",
       "      <td>5.999486</td>\n",
       "      <td>11283.100150</td>\n",
       "      <td>-1844.619250</td>\n",
       "      <td>9346.955000</td>\n",
       "    </tr>\n",
       "    <tr>\n",
       "      <th>max</th>\n",
       "      <td>10.353330</td>\n",
       "      <td>6.000000</td>\n",
       "      <td>20121.499700</td>\n",
       "      <td>-1350.601700</td>\n",
       "      <td>17742.360000</td>\n",
       "    </tr>\n",
       "  </tbody>\n",
       "</table>\n",
       "</div>"
      ],
      "text/plain": [
       "                X1           X2            X3           X4             Y\n",
       "count  2177.000000  2186.000000   2195.000000  2195.000000   2160.000000\n",
       "mean      9.999180     5.995155   9977.532422 -1979.998653   8027.914819\n",
       "std       0.100671     0.006787   2027.208147   200.188337   2047.905498\n",
       "min       9.678028     5.914573   4304.024600 -2665.308100   2091.490000\n",
       "25%       9.931051     5.993364   8577.663050 -2115.908100   6610.565000\n",
       "50%       9.999162     5.997761   9863.980700 -1975.894700   7924.990000\n",
       "75%      10.067261     5.999486  11283.100150 -1844.619250   9346.955000\n",
       "max      10.353330     6.000000  20121.499700 -1350.601700  17742.360000"
      ]
     },
     "execution_count": 61,
     "metadata": {},
     "output_type": "execute_result"
    }
   ],
   "source": [
    "df.describe()"
   ]
  },
  {
   "cell_type": "code",
   "execution_count": null,
   "id": "2119c353",
   "metadata": {},
   "outputs": [],
   "source": []
  }
 ],
 "metadata": {
  "kernelspec": {
   "display_name": "Python 3 (ipykernel)",
   "language": "python",
   "name": "python3"
  },
  "language_info": {
   "codemirror_mode": {
    "name": "ipython",
    "version": 3
   },
   "file_extension": ".py",
   "mimetype": "text/x-python",
   "name": "python",
   "nbconvert_exporter": "python",
   "pygments_lexer": "ipython3",
   "version": "3.10.9"
  }
 },
 "nbformat": 4,
 "nbformat_minor": 5
}
